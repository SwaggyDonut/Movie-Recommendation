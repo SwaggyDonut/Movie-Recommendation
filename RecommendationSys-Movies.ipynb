{
 "cells": [
  {
   "cell_type": "markdown",
   "metadata": {},
   "source": [
    "# Recommendation Systems"
   ]
  },
  {
   "cell_type": "markdown",
   "metadata": {},
   "source": [
    "### Getting MovieLens data"
   ]
  },
  {
   "cell_type": "markdown",
   "metadata": {},
   "source": [
    "* Download the movielens 100k dataset from this link: [ml-100k.zip](http://files.grouplens.org/datasets/movielens/ml-100k.zip)\n",
    "\n",
    "* Upload ml-100k.zip\n",
    "\n",
    "* Extract the file"
   ]
  },
  {
   "cell_type": "code",
   "execution_count": 1,
   "metadata": {},
   "outputs": [],
   "source": [
    "#!unzip ml-100k.zip -d ."
   ]
  },
  {
   "cell_type": "markdown",
   "metadata": {},
   "source": [
    "### Imports"
   ]
  },
  {
   "cell_type": "code",
   "execution_count": 2,
   "metadata": {},
   "outputs": [],
   "source": [
    "# import required libraries\n",
    "import os\n",
    "import os.path\n",
    "import numpy as np\n",
    "import pandas as pd\n",
    "from math import sqrt\n",
    "from heapq import nlargest\n",
    "from tqdm import trange\n",
    "from tqdm import tqdm\n",
    "from scipy import stats\n",
    "from sklearn.metrics.pairwise import pairwise_distances\n",
    "from sklearn.metrics import mean_squared_error\n",
    "from collections import Counter\n",
    "import matplotlib.pyplot as plt\n"
   ]
  },
  {
   "cell_type": "markdown",
   "metadata": {},
   "source": [
    "## Support functions and variables"
   ]
  },
  {
   "cell_type": "code",
   "execution_count": 3,
   "metadata": {},
   "outputs": [],
   "source": [
    "MOVIELENS_DIR = \"ml-100k\""
   ]
  },
  {
   "cell_type": "code",
   "execution_count": 4,
   "metadata": {},
   "outputs": [],
   "source": [
    "def getData(folder_path, file_name):\n",
    "    fields = ['userID', 'itemID', 'rating', 'timestamp']\n",
    "    data = pd.read_csv(os.path.join(folder_path, file_name), sep='\\t', names=fields)\n",
    "    return data "
   ]
  },
  {
   "cell_type": "code",
   "execution_count": 5,
   "metadata": {
    "scrolled": true
   },
   "outputs": [],
   "source": [
    "rating_df = getData(MOVIELENS_DIR, 'u.data')"
   ]
  },
  {
   "cell_type": "code",
   "execution_count": 6,
   "metadata": {},
   "outputs": [
    {
     "data": {
      "text/html": [
       "<div>\n",
       "<style scoped>\n",
       "    .dataframe tbody tr th:only-of-type {\n",
       "        vertical-align: middle;\n",
       "    }\n",
       "\n",
       "    .dataframe tbody tr th {\n",
       "        vertical-align: top;\n",
       "    }\n",
       "\n",
       "    .dataframe thead th {\n",
       "        text-align: right;\n",
       "    }\n",
       "</style>\n",
       "<table border=\"1\" class=\"dataframe\">\n",
       "  <thead>\n",
       "    <tr style=\"text-align: right;\">\n",
       "      <th></th>\n",
       "      <th>userID</th>\n",
       "      <th>itemID</th>\n",
       "      <th>rating</th>\n",
       "      <th>timestamp</th>\n",
       "    </tr>\n",
       "  </thead>\n",
       "  <tbody>\n",
       "    <tr>\n",
       "      <th>0</th>\n",
       "      <td>196</td>\n",
       "      <td>242</td>\n",
       "      <td>3</td>\n",
       "      <td>881250949</td>\n",
       "    </tr>\n",
       "    <tr>\n",
       "      <th>1</th>\n",
       "      <td>186</td>\n",
       "      <td>302</td>\n",
       "      <td>3</td>\n",
       "      <td>891717742</td>\n",
       "    </tr>\n",
       "    <tr>\n",
       "      <th>2</th>\n",
       "      <td>22</td>\n",
       "      <td>377</td>\n",
       "      <td>1</td>\n",
       "      <td>878887116</td>\n",
       "    </tr>\n",
       "    <tr>\n",
       "      <th>3</th>\n",
       "      <td>244</td>\n",
       "      <td>51</td>\n",
       "      <td>2</td>\n",
       "      <td>880606923</td>\n",
       "    </tr>\n",
       "    <tr>\n",
       "      <th>4</th>\n",
       "      <td>166</td>\n",
       "      <td>346</td>\n",
       "      <td>1</td>\n",
       "      <td>886397596</td>\n",
       "    </tr>\n",
       "  </tbody>\n",
       "</table>\n",
       "</div>"
      ],
      "text/plain": [
       "   userID  itemID  rating  timestamp\n",
       "0     196     242       3  881250949\n",
       "1     186     302       3  891717742\n",
       "2      22     377       1  878887116\n",
       "3     244      51       2  880606923\n",
       "4     166     346       1  886397596"
      ]
     },
     "execution_count": 6,
     "metadata": {},
     "output_type": "execute_result"
    }
   ],
   "source": [
    "rating_df.head()"
   ]
  },
  {
   "cell_type": "code",
   "execution_count": 7,
   "metadata": {},
   "outputs": [
    {
     "data": {
      "text/plain": [
       "(100000, 4)"
      ]
     },
     "execution_count": 7,
     "metadata": {},
     "output_type": "execute_result"
    }
   ],
   "source": [
    "rating_df.shape"
   ]
  },
  {
   "cell_type": "code",
   "execution_count": 8,
   "metadata": {
    "scrolled": true
   },
   "outputs": [
    {
     "name": "stdout",
     "output_type": "stream",
     "text": [
      "Number of users: 943\n",
      "Number of items: 1682\n"
     ]
    }
   ],
   "source": [
    "num_users = len(rating_df.userID.unique())\n",
    "num_items = len(rating_df.itemID.unique())\n",
    "print(\"Number of users:\", num_users)\n",
    "print(\"Number of items:\", num_items)"
   ]
  },
  {
   "cell_type": "markdown",
   "metadata": {},
   "source": [
    "## I. Data Preprocessing and Baseline algorithms"
   ]
  },
  {
   "cell_type": "markdown",
   "metadata": {},
   "source": [
    "### data processing"
   ]
  },
  {
   "cell_type": "code",
   "execution_count": 9,
   "metadata": {},
   "outputs": [],
   "source": [
    "def dataPreprocessor(rating_df, num_users, num_items):\n",
    "    \"\"\"\n",
    "        INPUT: \n",
    "            data: pandas DataFrame. columns=['userID', 'itemID', 'rating' ...]\n",
    "            num_row: int. number of users\n",
    "            num_col: int. number of items\n",
    "            \n",
    "        OUTPUT:\n",
    "            matrix: 2D numpy array. \n",
    "            \n",
    "        NOTE 1: see where something very similar is done in the lab in function 'buildUserItemMatrix'    \n",
    "            \n",
    "        NOTE 2: data can have more columns, but your function should ignore \n",
    "              additional columns.\n",
    "    \"\"\"\n",
    "    matrix = np.zeros((num_users, num_items), dtype=np.int8)\n",
    "    for (index, userID, itemID, rating, timestamp) in rating_df.itertuples():\n",
    "        matrix[userID-1, itemID-1] = rating\n",
    "    \n",
    "    \n",
    "    return matrix"
   ]
  },
  {
   "cell_type": "code",
   "execution_count": 10,
   "metadata": {},
   "outputs": [
    {
     "data": {
      "text/plain": [
       "array([[5, 3, 4, ..., 0, 0, 0],\n",
       "       [4, 0, 0, ..., 0, 0, 0],\n",
       "       [0, 0, 0, ..., 0, 0, 0],\n",
       "       ...,\n",
       "       [5, 0, 0, ..., 0, 0, 0],\n",
       "       [0, 0, 0, ..., 0, 0, 0],\n",
       "       [0, 5, 0, ..., 0, 0, 0]], dtype=int8)"
      ]
     },
     "execution_count": 10,
     "metadata": {},
     "output_type": "execute_result"
    }
   ],
   "source": [
    "dataPreprocessor(rating_df, num_users, num_items)"
   ]
  },
  {
   "cell_type": "markdown",
   "metadata": {},
   "source": [
    "### baseline recommendation system\n",
    "### popularity and user average rating"
   ]
  },
  {
   "cell_type": "code",
   "execution_count": 11,
   "metadata": {},
   "outputs": [],
   "source": [
    "class BaseLineRecSys(object):\n",
    "    def __init__(self, method, processor=dataPreprocessor):\n",
    "        \"\"\"\n",
    "            method: string. From ['popularity','useraverage']\n",
    "            processor: function name. dataPreprocessor by default\n",
    "        \"\"\"\n",
    "        self.method_name = method\n",
    "        self.method = self._getMethod(self.method_name)\n",
    "        self.processor = processor\n",
    "        self.pred_column_name = self.method_name\n",
    "        \n",
    "    def _getMethod(self, method_name):\n",
    "        \"\"\"\n",
    "            Don't change this\n",
    "        \"\"\"\n",
    "        switcher = {\n",
    "            'popularity': self.popularity,\n",
    "            'useraverage': self.useraverage,\n",
    "        }\n",
    "        \n",
    "        return switcher[method_name]\n",
    "    \n",
    "    @staticmethod\n",
    "    def useraverage(train_matrix, num_users, num_items):\n",
    "        \"\"\"\n",
    "            INPUT:\n",
    "                train_matrix: 2D numpy array.\n",
    "                num_users: int. Number of Users.\n",
    "                num_items: int. Number of Items.\n",
    "            OUTPUT:\n",
    "                predictionMatrix: 2D numpy array.\n",
    "                \n",
    "        \"\"\"\n",
    "        \n",
    "        predictionMatrix = np.zeros((num_users, num_items))\n",
    "        ######################\n",
    "        # Initialize the predicted rating matrix with zeros\n",
    "        for (user,item), rating in np.ndenumerate(train_matrix):\n",
    "        # Predict rating for every item that wasn't ranked by the user (rating == 0)\n",
    "            #if rating == 0:\n",
    "                # Extract the items the user already rated\n",
    "            userVector = train_matrix[user, :]\n",
    "            ratedItems = userVector[userVector.nonzero()]\n",
    "\n",
    "            # If not empty, calculate average and set as rating for the current item\n",
    "            if ratedItems.size == 0:\n",
    "                itemAvg = 0\n",
    "            else:\n",
    "                itemAvg = ratedItems.mean()\n",
    "            predictionMatrix[user, item] = itemAvg\n",
    "\n",
    "            # report progress every 100 users\n",
    "            if (user % 100 == 0 and item == 1):\n",
    "                print (\"calculated %d users\" % (user,))\n",
    "\n",
    "        ###########         end         ###########\n",
    "        return predictionMatrix\n",
    "    \n",
    "    @staticmethod\n",
    "    def popularity(train_matrix, num_users, num_items):\n",
    "        \"\"\"\n",
    "            INPUT:\n",
    "                train_matrix: 2D numpy array.\n",
    "                num_users: int. Number of Users.\n",
    "                num_items: int. Number of Items.\n",
    "            OUTPUT:\n",
    "                predictionMatrix: 2D numpy array.\n",
    "                \n",
    "        \"\"\"\n",
    "        \n",
    "        predictionMatrix = np.zeros((num_users, num_items))\n",
    "        ######################\n",
    "        # Initialize the predicted rating matrix with zeros\n",
    "        vf = np.vectorize(lambda x: 1 if x >= 4 else 0)\n",
    "        \n",
    "        itemPopularity = np.zeros((num_items))\n",
    "        for item in range(num_items):\n",
    "            numOfUsersRated = len(train_matrix[:, item].nonzero()[0])\n",
    "            numOfUsersLiked = len(vf(train_matrix[:, item]).nonzero()[0])\n",
    "            if numOfUsersRated == 0:\n",
    "                itemPopularity[item] = 0\n",
    "            else:\n",
    "                itemPopularity[item] = numOfUsersLiked/numOfUsersRated\n",
    "\n",
    "        for (user,item), rating in np.ndenumerate(train_matrix):\n",
    "            # Predict rating for every item that wasn't ranked by the user (rating == 0)\n",
    "            #if rating == 0:\n",
    "            predictionMatrix[user, item] = itemPopularity[item]\n",
    "\n",
    "            # report progress every 100 users\n",
    "            if (user % 100 == 0 and item == 1):\n",
    "                print (\"calculated %d users\" % (user,))\n",
    "\n",
    "        ######################\n",
    "        return predictionMatrix \n",
    "        \n",
    "    \n",
    "    def predict_all(self, train_df, num_users, num_items):\n",
    "        \n",
    "        train_matrix = self.processor(train_df, num_users, num_items)\n",
    "        self.__model = self.method(train_matrix, num_users, num_items)\n",
    "        \n",
    "    def evaluate_test(self, test_df, copy=False):\n",
    "        \n",
    "        if copy:\n",
    "            prediction = test_df.copy()\n",
    "        else:\n",
    "            prediction = test_df\n",
    "            \n",
    "        prediction[self.pred_column_name] = np.nan\n",
    "        \n",
    "        for (index, \n",
    "             userID, \n",
    "             itemID) in tqdm(prediction[['userID','itemID']].itertuples()):\n",
    "            prediction.loc[index, self.pred_column_name] = self.__model[userID-1, itemID-1]\n",
    "\n",
    "        return prediction\n",
    "        \n",
    "    def getModel(self):\n",
    "        \"\"\"\n",
    "            return predicted user-item matrix\n",
    "        \"\"\"\n",
    "        return self.__model\n",
    "    \n",
    "    def getPredColName(self):\n",
    "        \"\"\"\n",
    "            return prediction column name\n",
    "        \"\"\"\n",
    "        return self.pred_column_name\n",
    "    \n",
    "    def reset(self):\n",
    "        \"\"\"\n",
    "            reuse the instance of the class by removing model\n",
    "        \"\"\"\n",
    "        try:\n",
    "            self.model = None\n",
    "        except:\n",
    "            print(\"You don not have model..\")\n",
    "            "
   ]
  },
  {
   "cell_type": "code",
   "execution_count": 12,
   "metadata": {},
   "outputs": [],
   "source": [
    "popularity_recsys = BaseLineRecSys('popularity')"
   ]
  },
  {
   "cell_type": "code",
   "execution_count": 13,
   "metadata": {},
   "outputs": [
    {
     "name": "stdout",
     "output_type": "stream",
     "text": [
      "calculated 0 users\n",
      "calculated 100 users\n",
      "calculated 200 users\n",
      "calculated 300 users\n",
      "calculated 400 users\n",
      "calculated 500 users\n",
      "calculated 600 users\n",
      "calculated 700 users\n",
      "calculated 800 users\n",
      "calculated 900 users\n"
     ]
    }
   ],
   "source": [
    "popularity_recsys.predict_all(rating_df, num_users, num_items)"
   ]
  },
  {
   "cell_type": "code",
   "execution_count": 14,
   "metadata": {},
   "outputs": [],
   "source": [
    "x = popularity_recsys.getModel()"
   ]
  },
  {
   "cell_type": "code",
   "execution_count": 15,
   "metadata": {},
   "outputs": [
    {
     "data": {
      "text/plain": [
       "array([[0.71017699, 0.38931298, 0.37777778, ..., 0.        , 0.        ,\n",
       "        0.        ],\n",
       "       [0.71017699, 0.38931298, 0.37777778, ..., 0.        , 0.        ,\n",
       "        0.        ],\n",
       "       [0.71017699, 0.38931298, 0.37777778, ..., 0.        , 0.        ,\n",
       "        0.        ],\n",
       "       ...,\n",
       "       [0.71017699, 0.38931298, 0.37777778, ..., 0.        , 0.        ,\n",
       "        0.        ],\n",
       "       [0.71017699, 0.38931298, 0.37777778, ..., 0.        , 0.        ,\n",
       "        0.        ],\n",
       "       [0.71017699, 0.38931298, 0.37777778, ..., 0.        , 0.        ,\n",
       "        0.        ]])"
      ]
     },
     "execution_count": 15,
     "metadata": {},
     "output_type": "execute_result"
    }
   ],
   "source": [
    "x"
   ]
  },
  {
   "cell_type": "code",
   "execution_count": 16,
   "metadata": {},
   "outputs": [
    {
     "data": {
      "text/plain": [
       "True"
      ]
     },
     "execution_count": 16,
     "metadata": {},
     "output_type": "execute_result"
    }
   ],
   "source": [
    "np.all(x<=1)"
   ]
  },
  {
   "cell_type": "code",
   "execution_count": 17,
   "metadata": {
    "scrolled": true
   },
   "outputs": [
    {
     "name": "stderr",
     "output_type": "stream",
     "text": [
      "100000it [00:40, 2486.78it/s]\n"
     ]
    },
    {
     "data": {
      "text/html": [
       "<div>\n",
       "<style scoped>\n",
       "    .dataframe tbody tr th:only-of-type {\n",
       "        vertical-align: middle;\n",
       "    }\n",
       "\n",
       "    .dataframe tbody tr th {\n",
       "        vertical-align: top;\n",
       "    }\n",
       "\n",
       "    .dataframe thead th {\n",
       "        text-align: right;\n",
       "    }\n",
       "</style>\n",
       "<table border=\"1\" class=\"dataframe\">\n",
       "  <thead>\n",
       "    <tr style=\"text-align: right;\">\n",
       "      <th></th>\n",
       "      <th>userID</th>\n",
       "      <th>itemID</th>\n",
       "      <th>rating</th>\n",
       "      <th>timestamp</th>\n",
       "      <th>popularity</th>\n",
       "    </tr>\n",
       "  </thead>\n",
       "  <tbody>\n",
       "    <tr>\n",
       "      <th>0</th>\n",
       "      <td>196</td>\n",
       "      <td>242</td>\n",
       "      <td>3</td>\n",
       "      <td>881250949</td>\n",
       "      <td>0.760684</td>\n",
       "    </tr>\n",
       "    <tr>\n",
       "      <th>1</th>\n",
       "      <td>186</td>\n",
       "      <td>302</td>\n",
       "      <td>3</td>\n",
       "      <td>891717742</td>\n",
       "      <td>0.804714</td>\n",
       "    </tr>\n",
       "    <tr>\n",
       "      <th>2</th>\n",
       "      <td>22</td>\n",
       "      <td>377</td>\n",
       "      <td>1</td>\n",
       "      <td>878887116</td>\n",
       "      <td>0.076923</td>\n",
       "    </tr>\n",
       "    <tr>\n",
       "      <th>3</th>\n",
       "      <td>244</td>\n",
       "      <td>51</td>\n",
       "      <td>2</td>\n",
       "      <td>880606923</td>\n",
       "      <td>0.555556</td>\n",
       "    </tr>\n",
       "    <tr>\n",
       "      <th>4</th>\n",
       "      <td>166</td>\n",
       "      <td>346</td>\n",
       "      <td>1</td>\n",
       "      <td>886397596</td>\n",
       "      <td>0.611111</td>\n",
       "    </tr>\n",
       "  </tbody>\n",
       "</table>\n",
       "</div>"
      ],
      "text/plain": [
       "   userID  itemID  rating  timestamp  popularity\n",
       "0     196     242       3  881250949    0.760684\n",
       "1     186     302       3  891717742    0.804714\n",
       "2      22     377       1  878887116    0.076923\n",
       "3     244      51       2  880606923    0.555556\n",
       "4     166     346       1  886397596    0.611111"
      ]
     },
     "execution_count": 17,
     "metadata": {},
     "output_type": "execute_result"
    }
   ],
   "source": [
    "popularity_recsys.evaluate_test(rating_df,copy=True).head()"
   ]
  },
  {
   "cell_type": "code",
   "execution_count": 18,
   "metadata": {},
   "outputs": [],
   "source": [
    "average_user_rating_recsys = BaseLineRecSys('useraverage')"
   ]
  },
  {
   "cell_type": "code",
   "execution_count": 19,
   "metadata": {},
   "outputs": [
    {
     "name": "stdout",
     "output_type": "stream",
     "text": [
      "calculated 0 users\n",
      "calculated 100 users\n",
      "calculated 200 users\n",
      "calculated 300 users\n",
      "calculated 400 users\n",
      "calculated 500 users\n",
      "calculated 600 users\n",
      "calculated 700 users\n",
      "calculated 800 users\n",
      "calculated 900 users\n"
     ]
    }
   ],
   "source": [
    "average_user_rating_recsys.predict_all(rating_df, num_users, num_items)"
   ]
  },
  {
   "cell_type": "code",
   "execution_count": 20,
   "metadata": {},
   "outputs": [
    {
     "data": {
      "text/plain": [
       "array([[3.61029412, 3.61029412, 3.61029412, ..., 3.61029412, 3.61029412,\n",
       "        3.61029412],\n",
       "       [3.70967742, 3.70967742, 3.70967742, ..., 3.70967742, 3.70967742,\n",
       "        3.70967742],\n",
       "       [2.7962963 , 2.7962963 , 2.7962963 , ..., 2.7962963 , 2.7962963 ,\n",
       "        2.7962963 ],\n",
       "       ...,\n",
       "       [4.04545455, 4.04545455, 4.04545455, ..., 4.04545455, 4.04545455,\n",
       "        4.04545455],\n",
       "       [4.26582278, 4.26582278, 4.26582278, ..., 4.26582278, 4.26582278,\n",
       "        4.26582278],\n",
       "       [3.41071429, 3.41071429, 3.41071429, ..., 3.41071429, 3.41071429,\n",
       "        3.41071429]])"
      ]
     },
     "execution_count": 20,
     "metadata": {},
     "output_type": "execute_result"
    }
   ],
   "source": [
    "average_user_rating_recsys.getModel()"
   ]
  },
  {
   "cell_type": "code",
   "execution_count": 21,
   "metadata": {
    "scrolled": true
   },
   "outputs": [
    {
     "name": "stderr",
     "output_type": "stream",
     "text": [
      "100000it [00:37, 2670.48it/s]\n"
     ]
    },
    {
     "data": {
      "text/html": [
       "<div>\n",
       "<style scoped>\n",
       "    .dataframe tbody tr th:only-of-type {\n",
       "        vertical-align: middle;\n",
       "    }\n",
       "\n",
       "    .dataframe tbody tr th {\n",
       "        vertical-align: top;\n",
       "    }\n",
       "\n",
       "    .dataframe thead th {\n",
       "        text-align: right;\n",
       "    }\n",
       "</style>\n",
       "<table border=\"1\" class=\"dataframe\">\n",
       "  <thead>\n",
       "    <tr style=\"text-align: right;\">\n",
       "      <th></th>\n",
       "      <th>userID</th>\n",
       "      <th>itemID</th>\n",
       "      <th>rating</th>\n",
       "      <th>timestamp</th>\n",
       "      <th>useraverage</th>\n",
       "    </tr>\n",
       "  </thead>\n",
       "  <tbody>\n",
       "    <tr>\n",
       "      <th>0</th>\n",
       "      <td>196</td>\n",
       "      <td>242</td>\n",
       "      <td>3</td>\n",
       "      <td>881250949</td>\n",
       "      <td>3.615385</td>\n",
       "    </tr>\n",
       "    <tr>\n",
       "      <th>1</th>\n",
       "      <td>186</td>\n",
       "      <td>302</td>\n",
       "      <td>3</td>\n",
       "      <td>891717742</td>\n",
       "      <td>3.413043</td>\n",
       "    </tr>\n",
       "    <tr>\n",
       "      <th>2</th>\n",
       "      <td>22</td>\n",
       "      <td>377</td>\n",
       "      <td>1</td>\n",
       "      <td>878887116</td>\n",
       "      <td>3.351562</td>\n",
       "    </tr>\n",
       "    <tr>\n",
       "      <th>3</th>\n",
       "      <td>244</td>\n",
       "      <td>51</td>\n",
       "      <td>2</td>\n",
       "      <td>880606923</td>\n",
       "      <td>3.651261</td>\n",
       "    </tr>\n",
       "    <tr>\n",
       "      <th>4</th>\n",
       "      <td>166</td>\n",
       "      <td>346</td>\n",
       "      <td>1</td>\n",
       "      <td>886397596</td>\n",
       "      <td>3.550000</td>\n",
       "    </tr>\n",
       "  </tbody>\n",
       "</table>\n",
       "</div>"
      ],
      "text/plain": [
       "   userID  itemID  rating  timestamp  useraverage\n",
       "0     196     242       3  881250949     3.615385\n",
       "1     186     302       3  891717742     3.413043\n",
       "2      22     377       1  878887116     3.351562\n",
       "3     244      51       2  880606923     3.651261\n",
       "4     166     346       1  886397596     3.550000"
      ]
     },
     "execution_count": 21,
     "metadata": {},
     "output_type": "execute_result"
    }
   ],
   "source": [
    "average_user_rating_recsys.evaluate_test(rating_df,copy=True).head()"
   ]
  },
  {
   "cell_type": "markdown",
   "metadata": {},
   "source": [
    "## II. Collaborative Filtering"
   ]
  },
  {
   "cell_type": "code",
   "execution_count": 22,
   "metadata": {},
   "outputs": [],
   "source": [
    "class SimBasedRecSys(object):\n",
    "\n",
    "    def __init__(self, base, method, processor=dataPreprocessor):\n",
    "        \"\"\"\n",
    "            base: string. From ['user', 'item']. User-based Similarity or Item-based\n",
    "            method: string. From ['cosine', 'euclidean', 'somethingelse']\n",
    "            processor: function name. dataPreprocessor by default\n",
    "        \"\"\"\n",
    "        self.base = base\n",
    "        self.method_name = method\n",
    "        self.method = self._getMethod(self.method_name)\n",
    "        self.processor = processor\n",
    "        self.pred_column_name = self.base+'-'+self.method_name\n",
    "    \n",
    "    def _getMethod(self, method_name):\n",
    "        \"\"\"\n",
    "            Don't change this\n",
    "        \"\"\"\n",
    "        switcher = {\n",
    "            'cosine': self.cosine,\n",
    "            'euclidean': self.euclidean,\n",
    "            'somethingelse': self.somethingelse,\n",
    "        }\n",
    "        \n",
    "        return switcher[method_name]\n",
    "    \n",
    "    @staticmethod\n",
    "    def cosine(matrix):\n",
    "        \"\"\"\n",
    "            cosine similarity\n",
    "        \"\"\"\n",
    "        similarity_matrix = 1 - pairwise_distances(matrix, metric='cosine')\n",
    "        return similarity_matrix\n",
    "    \n",
    "    @staticmethod\n",
    "    def euclidean(matrix):\n",
    "        \"\"\"\n",
    "            euclidean similarity\n",
    "        \"\"\"\n",
    "        ######################\n",
    "        similarity_matrix = 1/(1 + pairwise_distances(matrix, metric='euclidean'))\n",
    "        \n",
    "        ######################    \n",
    "        \n",
    "        return similarity_matrix\n",
    "    \n",
    "    @staticmethod\n",
    "    def somethingelse(matrix):\n",
    "        \"\"\"\n",
    "            manhattan? or super-natural intuition similarity\n",
    "        \"\"\"\n",
    "        ######################\n",
    "        #similarity_matrix = 1/(1 + pairwise_distances(matrix, metric='jaccard'))\n",
    "        #similarity_matrix = (1 - pairwise_distances(matrix, metric='jaccard'))\n",
    "        similarity_matrix = 1/(1 + pairwise_distances(matrix, metric='manhattan'))\n",
    "\n",
    "        ######################     \n",
    "        return similarity_matrix\n",
    "        \n",
    "    def predict_all(self, train_df, num_users, num_items):\n",
    "        \"\"\"\n",
    "            INPUT: \n",
    "                data: pandas DataFrame. columns=['userID', 'itemID', 'rating'...]\n",
    "                num_row: scalar. number of users\n",
    "                num_col: scalar. number of items\n",
    "            OUTPUT:\n",
    "                no return... this method assigns the result to self.model\n",
    "            \n",
    "            NOTES:\n",
    "                self.__model should contain predictions for *all* user and items\n",
    "                (don't worry about predicting for observed (user,item) pairs,\n",
    "                 since we won't be using these predictions in the evaluation)\n",
    "                (see code in for an efficient vectorized example)\n",
    "        \"\"\"\n",
    "        train_matrix = self.processor(train_df, num_users, num_items)\n",
    "        \n",
    "        if self.base == 'user':\n",
    "            ###################### user-user similarity\n",
    "            temp_matrix = np.zeros(train_matrix.shape)\n",
    "            temp_matrix[train_matrix.nonzero()] = 1\n",
    "            \n",
    "            if self.method_name == \"cosine\":\n",
    "                similarity = self.cosine(train_matrix)\n",
    "            elif self.method_name == \"euclidean\":\n",
    "                similarity =  self.euclidean(train_matrix)\n",
    "            else:\n",
    "                similarity =  self.somethingelse(train_matrix)\n",
    "\n",
    "            normalizer = np.matmul(similarity, temp_matrix)\n",
    "            normalizer[normalizer == 0] = 1e-5\n",
    "            predictionMatrix = np.matmul(similarity, train_matrix)/normalizer\n",
    "            #predictionMatrix[temp_matrix.nonzero()] = 0\n",
    "            #Cold start\n",
    "\n",
    "            useraverage = np.sum(train_matrix, axis=1)/np.sum(temp_matrix, axis=1)\n",
    "            columns = np.sum(predictionMatrix, axis=0)\n",
    "            predictionMatrix[:, columns==0] = predictionMatrix[:, columns==0] + np.expand_dims(useraverage, axis=1)\n",
    "            \n",
    "            self.__model = predictionMatrix\n",
    "\n",
    "            ######################\n",
    "            \n",
    "        elif self.base == 'item':\n",
    "            ###################### item-item similarity\n",
    "            temp_matrix = np.zeros(train_matrix.shape)\n",
    "            temp_matrix[train_matrix.nonzero()] = 1\n",
    "            \n",
    "            #transpose train_matrix into a item-user matrix\n",
    "            train_matrix_transpose= np.transpose(train_matrix)\n",
    "            \n",
    "            if self.method_name == \"cosine\":\n",
    "                similarity = self.cosine(train_matrix_transpose)\n",
    "            elif self.method_name == \"euclidean\":\n",
    "                similarity =  self.euclidean(train_matrix_transpose)\n",
    "            else:\n",
    "                similarity =  self.somethingelse(train_matrix_transpose)\n",
    "            \n",
    "            normalizer = np.matmul(temp_matrix,similarity)\n",
    "            normalizer[normalizer == 0] = 1e-5\n",
    "            predictionMatrix = np.matmul(train_matrix, similarity)/normalizer\n",
    "            #predictionMatrix[temp_matrix.nonzero()] = 0\n",
    "            #Cold start\n",
    "\n",
    "            itemaverage = np.sum(train_matrix, axis=0)/np.sum(temp_matrix, axis=0)\n",
    "            rows = np.sum(predictionMatrix, axis=1)\n",
    "            predictionMatrix[rows == 0,:] = predictionMatrix[rows == 0,:] + np.expand_dims(itemaverage, axis=0)\n",
    "            self.__model = predictionMatrix\n",
    "            \n",
    "\n",
    "            ######################\n",
    "        else:\n",
    "            print('No other option available')\n",
    "        \n",
    "    def evaluate_test(self, test_df, copy=False):\n",
    "        \"\"\"\n",
    "            INPUT:\n",
    "                data: pandas DataFrame. columns=['userID', 'itemID', 'rating'...]\n",
    "            OUTPUT:\n",
    "                predictions:  pandas DataFrame. \n",
    "                              columns=['userID', 'itemID', 'rating', 'base-method'...]\n",
    "                              \n",
    "            NOTE: 1. data can have more columns, but your function should ignore \n",
    "                  additional columns.\n",
    "                  2. 'base-method' depends on your 'base' and 'method'. For example,\n",
    "                  if base == 'user' and method == 'cosine', \n",
    "                  then base-method == 'user-cosine'\n",
    "                  3. your predictions go to 'base-method' column\n",
    "        \"\"\"\n",
    "        if copy:\n",
    "            prediction = test_df.copy()\n",
    "        else:\n",
    "            prediction = test_df\n",
    "        prediction[self.pred_column_name] = np.nan\n",
    "        \n",
    "        for (index, \n",
    "             userID, \n",
    "             itemID) in tqdm(prediction[['userID','itemID']].itertuples()):\n",
    "            prediction.loc[index, self.pred_column_name] = self.__model[userID-1, itemID-1]\n",
    "    \n",
    "        return prediction\n",
    "    \n",
    "    def getModel(self):\n",
    "        \"\"\"\n",
    "            return predicted user-item matrix\n",
    "        \"\"\"\n",
    "        return self.__model\n",
    "    \n",
    "    def getPredColName(self):\n",
    "        \"\"\"\n",
    "            return prediction column name\n",
    "        \"\"\"\n",
    "        return self.pred_column_name\n",
    "    \n",
    "    def reset(self):\n",
    "        \"\"\"\n",
    "            reuse the instance of the class by removing model\n",
    "        \"\"\"\n",
    "        try:\n",
    "            self.model = None\n",
    "        except:\n",
    "            print(\"You do not have model..\")"
   ]
  },
  {
   "cell_type": "code",
   "execution_count": 23,
   "metadata": {},
   "outputs": [
    {
     "data": {
      "text/plain": [
       "array([[1., 0., 0.],\n",
       "       [0., 1., 0.],\n",
       "       [0., 0., 1.]])"
      ]
     },
     "execution_count": 23,
     "metadata": {},
     "output_type": "execute_result"
    }
   ],
   "source": [
    "# Examples of how to call similarity functions.\n",
    "I = np.eye(3)\n",
    "SimBasedRecSys.cosine(I)"
   ]
  },
  {
   "cell_type": "code",
   "execution_count": 24,
   "metadata": {},
   "outputs": [
    {
     "data": {
      "text/plain": [
       "array([[1.        , 0.41421356, 0.41421356],\n",
       "       [0.41421356, 1.        , 0.41421356],\n",
       "       [0.41421356, 0.41421356, 1.        ]])"
      ]
     },
     "execution_count": 24,
     "metadata": {},
     "output_type": "execute_result"
    }
   ],
   "source": [
    "SimBasedRecSys.euclidean(I)"
   ]
  },
  {
   "cell_type": "code",
   "execution_count": 25,
   "metadata": {},
   "outputs": [
    {
     "data": {
      "text/plain": [
       "array([[1.        , 0.33333333, 0.33333333],\n",
       "       [0.33333333, 1.        , 0.33333333],\n",
       "       [0.33333333, 0.33333333, 1.        ]])"
      ]
     },
     "execution_count": 25,
     "metadata": {},
     "output_type": "execute_result"
    }
   ],
   "source": [
    "SimBasedRecSys.somethingelse(I)"
   ]
  },
  {
   "cell_type": "code",
   "execution_count": 26,
   "metadata": {},
   "outputs": [],
   "source": [
    "user_cosine_recsys = SimBasedRecSys('user','cosine')"
   ]
  },
  {
   "cell_type": "code",
   "execution_count": 27,
   "metadata": {},
   "outputs": [],
   "source": [
    "user_cosine_recsys.predict_all(rating_df, num_users, num_items)"
   ]
  },
  {
   "cell_type": "code",
   "execution_count": 28,
   "metadata": {},
   "outputs": [
    {
     "data": {
      "text/plain": [
       "array([[3.89911175, 3.19022667, 3.0261129 , ..., 2.        , 3.        ,\n",
       "        3.        ],\n",
       "       [3.84034456, 3.17139889, 2.92626717, ..., 2.        , 3.        ,\n",
       "        3.        ],\n",
       "       [3.87104065, 3.12823798, 3.03250708, ..., 2.        , 3.        ,\n",
       "        3.        ],\n",
       "       ...,\n",
       "       [3.90754645, 3.20227238, 3.05776201, ..., 2.        , 3.        ,\n",
       "        3.        ],\n",
       "       [3.91100649, 3.21591021, 2.98854017, ..., 2.        , 3.        ,\n",
       "        3.        ],\n",
       "       [3.91593122, 3.24268207, 3.08255897, ..., 0.        , 3.        ,\n",
       "        3.        ]])"
      ]
     },
     "execution_count": 28,
     "metadata": {},
     "output_type": "execute_result"
    }
   ],
   "source": [
    "user_cosine_recsys.getModel()"
   ]
  },
  {
   "cell_type": "code",
   "execution_count": 29,
   "metadata": {},
   "outputs": [
    {
     "data": {
      "text/html": [
       "<div>\n",
       "<style scoped>\n",
       "    .dataframe tbody tr th:only-of-type {\n",
       "        vertical-align: middle;\n",
       "    }\n",
       "\n",
       "    .dataframe tbody tr th {\n",
       "        vertical-align: top;\n",
       "    }\n",
       "\n",
       "    .dataframe thead th {\n",
       "        text-align: right;\n",
       "    }\n",
       "</style>\n",
       "<table border=\"1\" class=\"dataframe\">\n",
       "  <thead>\n",
       "    <tr style=\"text-align: right;\">\n",
       "      <th></th>\n",
       "      <th>userID</th>\n",
       "      <th>itemID</th>\n",
       "      <th>rating</th>\n",
       "      <th>timestamp</th>\n",
       "    </tr>\n",
       "  </thead>\n",
       "  <tbody>\n",
       "    <tr>\n",
       "      <th>0</th>\n",
       "      <td>196</td>\n",
       "      <td>242</td>\n",
       "      <td>3</td>\n",
       "      <td>881250949</td>\n",
       "    </tr>\n",
       "    <tr>\n",
       "      <th>1</th>\n",
       "      <td>186</td>\n",
       "      <td>302</td>\n",
       "      <td>3</td>\n",
       "      <td>891717742</td>\n",
       "    </tr>\n",
       "    <tr>\n",
       "      <th>2</th>\n",
       "      <td>22</td>\n",
       "      <td>377</td>\n",
       "      <td>1</td>\n",
       "      <td>878887116</td>\n",
       "    </tr>\n",
       "    <tr>\n",
       "      <th>3</th>\n",
       "      <td>244</td>\n",
       "      <td>51</td>\n",
       "      <td>2</td>\n",
       "      <td>880606923</td>\n",
       "    </tr>\n",
       "    <tr>\n",
       "      <th>4</th>\n",
       "      <td>166</td>\n",
       "      <td>346</td>\n",
       "      <td>1</td>\n",
       "      <td>886397596</td>\n",
       "    </tr>\n",
       "  </tbody>\n",
       "</table>\n",
       "</div>"
      ],
      "text/plain": [
       "   userID  itemID  rating  timestamp\n",
       "0     196     242       3  881250949\n",
       "1     186     302       3  891717742\n",
       "2      22     377       1  878887116\n",
       "3     244      51       2  880606923\n",
       "4     166     346       1  886397596"
      ]
     },
     "execution_count": 29,
     "metadata": {},
     "output_type": "execute_result"
    }
   ],
   "source": [
    "rating_df.head()"
   ]
  },
  {
   "cell_type": "code",
   "execution_count": 30,
   "metadata": {
    "scrolled": true
   },
   "outputs": [
    {
     "name": "stderr",
     "output_type": "stream",
     "text": [
      "100000it [00:38, 2569.81it/s]\n"
     ]
    },
    {
     "data": {
      "text/html": [
       "<div>\n",
       "<style scoped>\n",
       "    .dataframe tbody tr th:only-of-type {\n",
       "        vertical-align: middle;\n",
       "    }\n",
       "\n",
       "    .dataframe tbody tr th {\n",
       "        vertical-align: top;\n",
       "    }\n",
       "\n",
       "    .dataframe thead th {\n",
       "        text-align: right;\n",
       "    }\n",
       "</style>\n",
       "<table border=\"1\" class=\"dataframe\">\n",
       "  <thead>\n",
       "    <tr style=\"text-align: right;\">\n",
       "      <th></th>\n",
       "      <th>userID</th>\n",
       "      <th>itemID</th>\n",
       "      <th>rating</th>\n",
       "      <th>timestamp</th>\n",
       "      <th>user-cosine</th>\n",
       "    </tr>\n",
       "  </thead>\n",
       "  <tbody>\n",
       "    <tr>\n",
       "      <th>0</th>\n",
       "      <td>196</td>\n",
       "      <td>242</td>\n",
       "      <td>3</td>\n",
       "      <td>881250949</td>\n",
       "      <td>4.025213</td>\n",
       "    </tr>\n",
       "    <tr>\n",
       "      <th>1</th>\n",
       "      <td>186</td>\n",
       "      <td>302</td>\n",
       "      <td>3</td>\n",
       "      <td>891717742</td>\n",
       "      <td>4.142828</td>\n",
       "    </tr>\n",
       "    <tr>\n",
       "      <th>2</th>\n",
       "      <td>22</td>\n",
       "      <td>377</td>\n",
       "      <td>1</td>\n",
       "      <td>878887116</td>\n",
       "      <td>1.922080</td>\n",
       "    </tr>\n",
       "    <tr>\n",
       "      <th>3</th>\n",
       "      <td>244</td>\n",
       "      <td>51</td>\n",
       "      <td>2</td>\n",
       "      <td>880606923</td>\n",
       "      <td>3.431884</td>\n",
       "    </tr>\n",
       "    <tr>\n",
       "      <th>4</th>\n",
       "      <td>166</td>\n",
       "      <td>346</td>\n",
       "      <td>1</td>\n",
       "      <td>886397596</td>\n",
       "      <td>3.424963</td>\n",
       "    </tr>\n",
       "  </tbody>\n",
       "</table>\n",
       "</div>"
      ],
      "text/plain": [
       "   userID  itemID  rating  timestamp  user-cosine\n",
       "0     196     242       3  881250949     4.025213\n",
       "1     186     302       3  891717742     4.142828\n",
       "2      22     377       1  878887116     1.922080\n",
       "3     244      51       2  880606923     3.431884\n",
       "4     166     346       1  886397596     3.424963"
      ]
     },
     "execution_count": 30,
     "metadata": {},
     "output_type": "execute_result"
    }
   ],
   "source": [
    "user_cosine_recsys.evaluate_test(rating_df,copy=True).head()"
   ]
  },
  {
   "cell_type": "code",
   "execution_count": null,
   "metadata": {},
   "outputs": [],
   "source": []
  },
  {
   "cell_type": "markdown",
   "metadata": {},
   "source": [
    "### cross validation"
   ]
  },
  {
   "cell_type": "code",
   "execution_count": 31,
   "metadata": {},
   "outputs": [],
   "source": [
    "class CrossValidation(object):\n",
    "    def __init__(self, metric, data_path=MOVIELENS_DIR):\n",
    "        \"\"\"\n",
    "            INPUT:\n",
    "                metric: string. from['RMSE','P@K','R@K']\n",
    "        \"\"\"\n",
    "        self.folds = self._getData(MOVIELENS_DIR)\n",
    "        self.metric_name = metric\n",
    "        self.metric = self._getMetric(self.metric_name)\n",
    "        \n",
    "    def _getMetric(self, metric_name):\n",
    "        \"\"\"\n",
    "            Don't change this\n",
    "        \"\"\"\n",
    "        switcher = {\n",
    "            'RMSE': self.rmse,\n",
    "            'P@K': self.patk,\n",
    "            'R@K': self.ratk,\n",
    "        }\n",
    "        \n",
    "        return switcher[metric_name]\n",
    "    \n",
    "    @staticmethod\n",
    "    def rmse(data, k, num_users, num_items, pred, true='rating'):\n",
    "        \"\"\"\n",
    "            data: pandas DataFrame. \n",
    "            pred: string. Column name that corresponding to the prediction\n",
    "            true: string. Column name that corresponding to the true rating\n",
    "        \"\"\"\n",
    "        return sqrt(mean_squared_error(data[pred], data[true]))\n",
    "    \n",
    "    # Precision at k\n",
    "    def patk(self, data, k, num_users, num_items, pred, true='rating'):\n",
    "        \"\"\"\n",
    "            data: pandas DataFrame. \n",
    "            k: top-k items retrived\n",
    "            pred: string. Column name that corresponding to the prediction\n",
    "            true: string. Column name that corresponding to the true rating\n",
    "        \"\"\"\n",
    "        prediction = self.getMatrix(data, num_users, num_items, pred)\n",
    "        testSet =  self.getMatrix(data, num_users, num_items, true)\n",
    "    \n",
    "        # Initialize sum and count vars for average calculation\n",
    "        sumPrecisions = 0\n",
    "        countPrecisions = 0\n",
    "\n",
    "        # Define function for converting 1-5 rating to 0/1 (like / don't like)\n",
    "        vf = np.vectorize(lambda x: 1 if x >= 4 else 0)\n",
    "\n",
    "        for userID in range(num_users):\n",
    "            # Pick top K based on predicted rating\n",
    "            userVector = prediction[userID,:]\n",
    "            topK = nlargest(k, range(len(userVector)), userVector.take)\n",
    "\n",
    "            # Convert test set ratings to like / don't like\n",
    "            userTestVector = vf(testSet[userID,:]).nonzero()[0]\n",
    "\n",
    "            # Calculate precision\n",
    "            precision = float(len([item for item in topK if item in userTestVector]))/len(topK)\n",
    "\n",
    "            # Update sum and count\n",
    "            sumPrecisions += precision\n",
    "            countPrecisions += 1\n",
    "\n",
    "        # Return average P@k\n",
    "        return float(sumPrecisions)/countPrecisions\n",
    "    \n",
    "    # Recall at k\n",
    "    def ratk(self, data, k, num_users, num_items, pred, true='rating'):\n",
    "        \"\"\"\n",
    "            data: pandas DataFrame. \n",
    "            k: top-k items relevant\n",
    "            pred: string. Column name that corresponding to the prediction\n",
    "            true: string. Column name that corresponding to the true rating\n",
    "        \"\"\"\n",
    "        prediction = self.getMatrix(data, num_users, num_items, pred)\n",
    "        testSet =  self.getMatrix(data, num_users, num_items, true)\n",
    "        # Initialize sum and count vars for average calculation\n",
    "        sumRecalls = 0\n",
    "        countRecalls = 0\n",
    "\n",
    "        # Define function for converting 1-5 rating to 0/1 (like / don't like)\n",
    "        vf = np.vectorize(lambda x: 1 if x >= 4 else 0)\n",
    "\n",
    "        for userID in range(num_users):\n",
    "            # Pick top K based on predicted rating\n",
    "            userVector = prediction[userID,:]\n",
    "            topK = nlargest(k, range(len(userVector)), userVector.take)\n",
    "\n",
    "            # Convert test set ratings to like / don't like\n",
    "            userTestVector = vf(testSet[userID,:]).nonzero()[0]\n",
    "\n",
    "            # Ignore user if has no ratings in the test set\n",
    "            if (len(userTestVector) == 0):\n",
    "                continue\n",
    "\n",
    "            # Calculate recall\n",
    "            recall = float(len([item for item in topK if item in userTestVector]))/len(userTestVector)\n",
    "\n",
    "            # Update sum and count\n",
    "            sumRecalls += recall\n",
    "            countRecalls += 1\n",
    "\n",
    "        # Return average R@k\n",
    "        return float(sumRecalls)/countRecalls\n",
    "    \n",
    "    @staticmethod\n",
    "    def getMatrix(rating_df, num_users, num_items, column_name):\n",
    "        matrix = np.zeros((num_users, num_items))\n",
    "    \n",
    "        for (index, userID, itemID, value) in rating_df[['userID','itemID', column_name]].itertuples():\n",
    "            matrix[userID-1, itemID-1] = value\n",
    "            \n",
    "        return matrix\n",
    "    \n",
    "    @staticmethod\n",
    "    def _getData(data_path):\n",
    "        \"\"\"\n",
    "            Don't change this function\n",
    "        \"\"\"\n",
    "        folds = []\n",
    "        data_types = ['u{0}.base','u{0}.test']\n",
    "        for i in range(1,6):\n",
    "            train_set = getData(data_path, data_types[0].format(i))\n",
    "            test_set = getData(data_path, data_types[1].format(i))\n",
    "            folds.append([train_set, test_set])\n",
    "        return folds\n",
    "    \n",
    "    def run(self, algorithms, num_users, num_items, k=1):\n",
    "        \"\"\"\n",
    "            5-fold cross-validation\n",
    "            algorithms: list. a list of algorithms. \n",
    "                        eg: [user_cosine_recsys, item_euclidean_recsys]\n",
    "        \"\"\"\n",
    "        \n",
    "        scores = {}\n",
    "        for algorithm in algorithms:\n",
    "            print('Processing algorithm {0}'.format(algorithm.getPredColName()))\n",
    "            fold_scores = []\n",
    "            for fold in self.folds:\n",
    "                algorithm.reset()\n",
    "                algorithm.predict_all(fold[0], num_users, num_items)\n",
    "                prediction = algorithm.evaluate_test(fold[1])\n",
    "                pred_col = algorithm.getPredColName()\n",
    "                fold_scores.append(self.metric(prediction, k, num_users, num_items, pred_col))\n",
    "                \n",
    "            mean = np.mean(fold_scores)\n",
    "            ci_low, ci_high = stats.t.interval(0.95, len(fold_scores)-1, loc=mean, scale=stats.sem(fold_scores))\n",
    "            scores[algorithm.getPredColName()] = [fold_scores, mean, ci_low, ci_high]\n",
    "            \n",
    "        results = scores    \n",
    "    \n",
    "        return results\n",
    "            "
   ]
  },
  {
   "cell_type": "code",
   "execution_count": 32,
   "metadata": {},
   "outputs": [
    {
     "data": {
      "text/plain": [
       "array([[3.75429099, 3.66419957, 3.73222997, ..., 3.60248287, 3.79662696,\n",
       "        3.90232044],\n",
       "       [3.83658867, 3.80424519, 3.77473905, ..., 3.72798332, 3.9109779 ,\n",
       "        3.79775927],\n",
       "       [2.84492718, 2.89389328, 2.84327324, ..., 2.99504451, 3.16444153,\n",
       "        2.9858119 ],\n",
       "       ...,\n",
       "       [4.11427954, 4.0558267 , 4.00963139, ..., 4.        , 3.87872799,\n",
       "        4.14814803],\n",
       "       [4.37096823, 4.39679254, 4.33543016, ..., 3.955358  , 4.41891089,\n",
       "        4.57995134],\n",
       "       [3.52030345, 3.46948821, 3.52393064, ..., 0.        , 3.6110641 ,\n",
       "        3.59656861]])"
      ]
     },
     "execution_count": 32,
     "metadata": {},
     "output_type": "execute_result"
    }
   ],
   "source": [
    "item_cosine_recsys = SimBasedRecSys('item','cosine')\n",
    "item_cosine_recsys.predict_all(rating_df, num_users, num_items)\n",
    "item_cosine_recsys.getModel()"
   ]
  },
  {
   "cell_type": "code",
   "execution_count": 33,
   "metadata": {},
   "outputs": [
    {
     "name": "stderr",
     "output_type": "stream",
     "text": [
      "100000it [00:38, 2625.51it/s]\n"
     ]
    },
    {
     "data": {
      "text/html": [
       "<div>\n",
       "<style scoped>\n",
       "    .dataframe tbody tr th:only-of-type {\n",
       "        vertical-align: middle;\n",
       "    }\n",
       "\n",
       "    .dataframe tbody tr th {\n",
       "        vertical-align: top;\n",
       "    }\n",
       "\n",
       "    .dataframe thead th {\n",
       "        text-align: right;\n",
       "    }\n",
       "</style>\n",
       "<table border=\"1\" class=\"dataframe\">\n",
       "  <thead>\n",
       "    <tr style=\"text-align: right;\">\n",
       "      <th></th>\n",
       "      <th>userID</th>\n",
       "      <th>itemID</th>\n",
       "      <th>rating</th>\n",
       "      <th>timestamp</th>\n",
       "      <th>item-cosine</th>\n",
       "    </tr>\n",
       "  </thead>\n",
       "  <tbody>\n",
       "    <tr>\n",
       "      <th>0</th>\n",
       "      <td>196</td>\n",
       "      <td>242</td>\n",
       "      <td>3</td>\n",
       "      <td>881250949</td>\n",
       "      <td>3.591314</td>\n",
       "    </tr>\n",
       "    <tr>\n",
       "      <th>1</th>\n",
       "      <td>186</td>\n",
       "      <td>302</td>\n",
       "      <td>3</td>\n",
       "      <td>891717742</td>\n",
       "      <td>3.344077</td>\n",
       "    </tr>\n",
       "    <tr>\n",
       "      <th>2</th>\n",
       "      <td>22</td>\n",
       "      <td>377</td>\n",
       "      <td>1</td>\n",
       "      <td>878887116</td>\n",
       "      <td>2.965365</td>\n",
       "    </tr>\n",
       "    <tr>\n",
       "      <th>3</th>\n",
       "      <td>244</td>\n",
       "      <td>51</td>\n",
       "      <td>2</td>\n",
       "      <td>880606923</td>\n",
       "      <td>3.637332</td>\n",
       "    </tr>\n",
       "    <tr>\n",
       "      <th>4</th>\n",
       "      <td>166</td>\n",
       "      <td>346</td>\n",
       "      <td>1</td>\n",
       "      <td>886397596</td>\n",
       "      <td>3.333013</td>\n",
       "    </tr>\n",
       "  </tbody>\n",
       "</table>\n",
       "</div>"
      ],
      "text/plain": [
       "   userID  itemID  rating  timestamp  item-cosine\n",
       "0     196     242       3  881250949     3.591314\n",
       "1     186     302       3  891717742     3.344077\n",
       "2      22     377       1  878887116     2.965365\n",
       "3     244      51       2  880606923     3.637332\n",
       "4     166     346       1  886397596     3.333013"
      ]
     },
     "execution_count": 33,
     "metadata": {},
     "output_type": "execute_result"
    }
   ],
   "source": [
    "item_cosine_recsys.evaluate_test(rating_df,copy=True).head()"
   ]
  },
  {
   "cell_type": "code",
   "execution_count": 34,
   "metadata": {},
   "outputs": [],
   "source": [
    "# How to use CrossValidation Class?"
   ]
  },
  {
   "cell_type": "code",
   "execution_count": 35,
   "metadata": {},
   "outputs": [],
   "source": [
    "# 1. gather your algorithms in previous steps.\n",
    "#algorithm_instances = [user_cosine_recsys,\n",
    "#                      item_cosine_recsys]"
   ]
  },
  {
   "cell_type": "code",
   "execution_count": 36,
   "metadata": {},
   "outputs": [],
   "source": [
    "# 2. Instantiate a CrossValidation instance and assign the measurement that you want to use\n",
    "# RMSE, P@K, R@K\n",
    "# Precision at K in this example\n",
    "#cv_patk = CrossValidation('RMSE')"
   ]
  },
  {
   "cell_type": "code",
   "execution_count": 37,
   "metadata": {
    "scrolled": true
   },
   "outputs": [],
   "source": [
    "# 3. Run CV by giving:\n",
    "#    1> algorithms just gathered\n",
    "#    2> number of users in the full dataset\n",
    "#    3> number of items in the full dataset\n",
    "#    4> precision or recall at K need a K value, so k=5 means precision at 5 in this example\n",
    "# Results include independent results from 5 folds, their mean, and confidence interval.\n",
    "#rmse_result = cv_patk.run(algorithm_instances, num_users, num_items,k=5)"
   ]
  },
  {
   "cell_type": "code",
   "execution_count": 38,
   "metadata": {},
   "outputs": [],
   "source": [
    "# item_cosine_rmse_df = pd.DataFrame(columns = list(item_cosine_rmse_result.keys()),index=range(4))\n",
    "# for elem in list(item_cosine_rmse_result.keys()):\n",
    "#     item_cosine_rmse_df[elem].iloc[0] = item_cosine_rmse_result[elem][0]\n",
    "#     item_cosine_rmse_df[elem].iloc[1] = item_cosine_rmse_result[elem][1]\n",
    "#     item_cosine_rmse_df[elem].iloc[2] = item_cosine_rmse_result[elem][2]\n",
    "#     item_cosine_rmse_df[elem].iloc[3] = item_cosine_rmse_result[elem][3]\n",
    "# pd.set_option('display.max_colwidth', -1)\n",
    "# item_cosine_rmse_df = item_cosine_rmse_df.rename(index={0: '5-fold score', 1: 'mean', 2: 'ci low',3:'ci high'})\n",
    "# item_cosine_rmse_df"
   ]
  },
  {
   "cell_type": "code",
   "execution_count": null,
   "metadata": {},
   "outputs": [],
   "source": []
  },
  {
   "cell_type": "markdown",
   "metadata": {},
   "source": [
    "## III. Performance Comparison"
   ]
  },
  {
   "cell_type": "markdown",
   "metadata": {},
   "source": [
    "## RMSE"
   ]
  },
  {
   "cell_type": "code",
   "execution_count": 39,
   "metadata": {},
   "outputs": [],
   "source": [
    "algorithm_instances = [popularity_recsys, \n",
    "                       average_user_rating_recsys, \n",
    "                       user_cosine_recsys,\n",
    "                      item_cosine_recsys]"
   ]
  },
  {
   "cell_type": "code",
   "execution_count": 40,
   "metadata": {
    "scrolled": true
   },
   "outputs": [
    {
     "name": "stdout",
     "output_type": "stream",
     "text": [
      "Processing algorithm popularity\n",
      "calculated 0 users\n",
      "calculated 100 users\n",
      "calculated 200 users\n",
      "calculated 300 users\n",
      "calculated 400 users\n",
      "calculated 500 users\n",
      "calculated 600 users\n",
      "calculated 700 users\n",
      "calculated 800 users\n"
     ]
    },
    {
     "name": "stderr",
     "output_type": "stream",
     "text": [
      "337it [00:00, 3360.79it/s]"
     ]
    },
    {
     "name": "stdout",
     "output_type": "stream",
     "text": [
      "calculated 900 users\n"
     ]
    },
    {
     "name": "stderr",
     "output_type": "stream",
     "text": [
      "20000it [00:05, 3446.91it/s]\n"
     ]
    },
    {
     "name": "stdout",
     "output_type": "stream",
     "text": [
      "calculated 0 users\n",
      "calculated 100 users\n",
      "calculated 200 users\n",
      "calculated 300 users\n",
      "calculated 400 users\n",
      "calculated 500 users\n",
      "calculated 600 users\n",
      "calculated 700 users\n",
      "calculated 800 users\n"
     ]
    },
    {
     "name": "stderr",
     "output_type": "stream",
     "text": [
      "322it [00:00, 3219.86it/s]"
     ]
    },
    {
     "name": "stdout",
     "output_type": "stream",
     "text": [
      "calculated 900 users\n"
     ]
    },
    {
     "name": "stderr",
     "output_type": "stream",
     "text": [
      "20000it [00:05, 3420.46it/s]\n"
     ]
    },
    {
     "name": "stdout",
     "output_type": "stream",
     "text": [
      "calculated 0 users\n",
      "calculated 100 users\n",
      "calculated 200 users\n",
      "calculated 300 users\n",
      "calculated 400 users\n",
      "calculated 500 users\n",
      "calculated 600 users\n",
      "calculated 700 users\n",
      "calculated 800 users\n"
     ]
    },
    {
     "name": "stderr",
     "output_type": "stream",
     "text": [
      "350it [00:00, 3497.27it/s]"
     ]
    },
    {
     "name": "stdout",
     "output_type": "stream",
     "text": [
      "calculated 900 users\n"
     ]
    },
    {
     "name": "stderr",
     "output_type": "stream",
     "text": [
      "20000it [00:05, 3510.86it/s]\n"
     ]
    },
    {
     "name": "stdout",
     "output_type": "stream",
     "text": [
      "calculated 0 users\n",
      "calculated 100 users\n",
      "calculated 200 users\n",
      "calculated 300 users\n",
      "calculated 400 users\n",
      "calculated 500 users\n",
      "calculated 600 users\n",
      "calculated 700 users\n",
      "calculated 800 users\n"
     ]
    },
    {
     "name": "stderr",
     "output_type": "stream",
     "text": [
      "343it [00:00, 3425.51it/s]"
     ]
    },
    {
     "name": "stdout",
     "output_type": "stream",
     "text": [
      "calculated 900 users\n"
     ]
    },
    {
     "name": "stderr",
     "output_type": "stream",
     "text": [
      "20000it [00:05, 3467.64it/s]\n"
     ]
    },
    {
     "name": "stdout",
     "output_type": "stream",
     "text": [
      "calculated 0 users\n",
      "calculated 100 users\n",
      "calculated 200 users\n",
      "calculated 300 users\n",
      "calculated 400 users\n",
      "calculated 500 users\n",
      "calculated 600 users\n",
      "calculated 700 users\n",
      "calculated 800 users\n"
     ]
    },
    {
     "name": "stderr",
     "output_type": "stream",
     "text": [
      "352it [00:00, 3518.98it/s]"
     ]
    },
    {
     "name": "stdout",
     "output_type": "stream",
     "text": [
      "calculated 900 users\n"
     ]
    },
    {
     "name": "stderr",
     "output_type": "stream",
     "text": [
      "20000it [00:05, 3447.95it/s]\n"
     ]
    },
    {
     "name": "stdout",
     "output_type": "stream",
     "text": [
      "Processing algorithm useraverage\n",
      "calculated 0 users\n",
      "calculated 100 users\n",
      "calculated 200 users\n",
      "calculated 300 users\n",
      "calculated 400 users\n",
      "calculated 500 users\n",
      "calculated 600 users\n",
      "calculated 700 users\n",
      "calculated 800 users\n",
      "calculated 900 users\n"
     ]
    },
    {
     "name": "stderr",
     "output_type": "stream",
     "text": [
      "20000it [00:05, 3423.70it/s]\n"
     ]
    },
    {
     "name": "stdout",
     "output_type": "stream",
     "text": [
      "calculated 0 users\n",
      "calculated 100 users\n",
      "calculated 200 users\n",
      "calculated 300 users\n",
      "calculated 400 users\n",
      "calculated 500 users\n",
      "calculated 600 users\n",
      "calculated 700 users\n",
      "calculated 800 users\n",
      "calculated 900 users\n"
     ]
    },
    {
     "name": "stderr",
     "output_type": "stream",
     "text": [
      "20000it [00:05, 3337.59it/s]\n"
     ]
    },
    {
     "name": "stdout",
     "output_type": "stream",
     "text": [
      "calculated 0 users\n",
      "calculated 100 users\n",
      "calculated 200 users\n",
      "calculated 300 users\n",
      "calculated 400 users\n",
      "calculated 500 users\n",
      "calculated 600 users\n",
      "calculated 700 users\n",
      "calculated 800 users\n",
      "calculated 900 users\n"
     ]
    },
    {
     "name": "stderr",
     "output_type": "stream",
     "text": [
      "20000it [00:07, 2701.08it/s]\n"
     ]
    },
    {
     "name": "stdout",
     "output_type": "stream",
     "text": [
      "calculated 0 users\n",
      "calculated 100 users\n",
      "calculated 200 users\n",
      "calculated 300 users\n",
      "calculated 400 users\n",
      "calculated 500 users\n",
      "calculated 600 users\n",
      "calculated 700 users\n",
      "calculated 800 users\n",
      "calculated 900 users\n"
     ]
    },
    {
     "name": "stderr",
     "output_type": "stream",
     "text": [
      "20000it [00:06, 2922.56it/s]\n"
     ]
    },
    {
     "name": "stdout",
     "output_type": "stream",
     "text": [
      "calculated 0 users\n",
      "calculated 100 users\n",
      "calculated 200 users\n",
      "calculated 300 users\n",
      "calculated 400 users\n",
      "calculated 500 users\n",
      "calculated 600 users\n",
      "calculated 700 users\n",
      "calculated 800 users\n",
      "calculated 900 users\n"
     ]
    },
    {
     "name": "stderr",
     "output_type": "stream",
     "text": [
      "20000it [00:06, 3181.98it/s]\n",
      "0it [00:00, ?it/s]"
     ]
    },
    {
     "name": "stdout",
     "output_type": "stream",
     "text": [
      "Processing algorithm user-cosine\n"
     ]
    },
    {
     "name": "stderr",
     "output_type": "stream",
     "text": [
      "20000it [00:06, 2971.49it/s]\n",
      "20000it [00:06, 3023.46it/s]\n",
      "20000it [00:06, 3202.52it/s]\n",
      "20000it [00:06, 3204.73it/s]\n",
      "20000it [00:06, 3205.72it/s]\n"
     ]
    },
    {
     "name": "stdout",
     "output_type": "stream",
     "text": [
      "Processing algorithm item-cosine\n"
     ]
    },
    {
     "name": "stderr",
     "output_type": "stream",
     "text": [
      "/anaconda3/lib/python3.7/site-packages/ipykernel_launcher.py:124: RuntimeWarning: invalid value encountered in true_divide\n",
      "20000it [00:06, 3207.81it/s]\n",
      "/anaconda3/lib/python3.7/site-packages/ipykernel_launcher.py:124: RuntimeWarning: invalid value encountered in true_divide\n",
      "20000it [00:06, 3221.16it/s]\n",
      "/anaconda3/lib/python3.7/site-packages/ipykernel_launcher.py:124: RuntimeWarning: invalid value encountered in true_divide\n",
      "20000it [00:06, 3200.79it/s]\n",
      "/anaconda3/lib/python3.7/site-packages/ipykernel_launcher.py:124: RuntimeWarning: invalid value encountered in true_divide\n",
      "20000it [00:06, 3170.24it/s]\n",
      "/anaconda3/lib/python3.7/site-packages/ipykernel_launcher.py:124: RuntimeWarning: invalid value encountered in true_divide\n",
      "20000it [00:06, 3216.93it/s]\n"
     ]
    }
   ],
   "source": [
    "cv_rmse = CrossValidation('RMSE')\n",
    "rmse_result = cv_rmse.run(algorithm_instances, num_users, num_items,k=5)"
   ]
  },
  {
   "cell_type": "code",
   "execution_count": 41,
   "metadata": {
    "scrolled": true
   },
   "outputs": [
    {
     "data": {
      "text/plain": [
       "{'popularity': [[3.177941281084362,\n",
       "   3.1750480150769977,\n",
       "   3.147474655005899,\n",
       "   3.146164503024159,\n",
       "   3.1488360007536382],\n",
       "  3.1590928909890112,\n",
       "  3.139292746995387,\n",
       "  3.1788930349826354],\n",
       " 'useraverage': [[1.0629951276561334,\n",
       "   1.0467467492319966,\n",
       "   1.0328964562995389,\n",
       "   1.0366575971298078,\n",
       "   1.0392923504800367],\n",
       "  1.0437176561595025,\n",
       "  1.0289303496379316,\n",
       "  1.0585049626810734],\n",
       " 'user-cosine': [[1.026449013124381,\n",
       "   1.0214387664779507,\n",
       "   1.0132940326457187,\n",
       "   1.0094003999022947,\n",
       "   1.0161883961525586],\n",
       "  1.0173541216605808,\n",
       "  1.009013080226148,\n",
       "  1.0256951630950135],\n",
       " 'item-cosine': [[1.0377631264364244,\n",
       "   1.0207280585350078,\n",
       "   1.0101820660011798,\n",
       "   1.0136832839209695,\n",
       "   1.0180579656376574],\n",
       "  1.020082900106248,\n",
       "  1.0068242686250732,\n",
       "  1.0333415315874226]}"
      ]
     },
     "execution_count": 41,
     "metadata": {},
     "output_type": "execute_result"
    }
   ],
   "source": [
    "rmse_result"
   ]
  },
  {
   "cell_type": "code",
   "execution_count": 42,
   "metadata": {},
   "outputs": [],
   "source": [
    "rmse_df = pd.DataFrame(columns = list(rmse_result.keys()),index=range(4))"
   ]
  },
  {
   "cell_type": "code",
   "execution_count": 43,
   "metadata": {},
   "outputs": [],
   "source": [
    "for elem in list(rmse_result.keys()):\n",
    "    rmse_df[elem].iloc[0] = rmse_result[elem][0]\n",
    "    rmse_df[elem].iloc[1] = rmse_result[elem][1]\n",
    "    rmse_df[elem].iloc[2] = rmse_result[elem][2]\n",
    "    rmse_df[elem].iloc[3] = rmse_result[elem][3]"
   ]
  },
  {
   "cell_type": "code",
   "execution_count": 44,
   "metadata": {},
   "outputs": [],
   "source": [
    "rmse_df = rmse_df.rename(index={0: '5-fold score', 1: 'mean', 2: 'ci low',3:'ci high'})"
   ]
  },
  {
   "cell_type": "code",
   "execution_count": 45,
   "metadata": {},
   "outputs": [
    {
     "data": {
      "text/html": [
       "<div>\n",
       "<style scoped>\n",
       "    .dataframe tbody tr th:only-of-type {\n",
       "        vertical-align: middle;\n",
       "    }\n",
       "\n",
       "    .dataframe tbody tr th {\n",
       "        vertical-align: top;\n",
       "    }\n",
       "\n",
       "    .dataframe thead th {\n",
       "        text-align: right;\n",
       "    }\n",
       "</style>\n",
       "<table border=\"1\" class=\"dataframe\">\n",
       "  <thead>\n",
       "    <tr style=\"text-align: right;\">\n",
       "      <th></th>\n",
       "      <th>popularity</th>\n",
       "      <th>useraverage</th>\n",
       "      <th>user-cosine</th>\n",
       "      <th>item-cosine</th>\n",
       "    </tr>\n",
       "  </thead>\n",
       "  <tbody>\n",
       "    <tr>\n",
       "      <th>5-fold score</th>\n",
       "      <td>[3.177941281084362, 3.1750480150769977, 3.1474...</td>\n",
       "      <td>[1.0629951276561334, 1.0467467492319966, 1.032...</td>\n",
       "      <td>[1.026449013124381, 1.0214387664779507, 1.0132...</td>\n",
       "      <td>[1.0377631264364244, 1.0207280585350078, 1.010...</td>\n",
       "    </tr>\n",
       "    <tr>\n",
       "      <th>mean</th>\n",
       "      <td>3.15909</td>\n",
       "      <td>1.04372</td>\n",
       "      <td>1.01735</td>\n",
       "      <td>1.02008</td>\n",
       "    </tr>\n",
       "    <tr>\n",
       "      <th>ci low</th>\n",
       "      <td>3.13929</td>\n",
       "      <td>1.02893</td>\n",
       "      <td>1.00901</td>\n",
       "      <td>1.00682</td>\n",
       "    </tr>\n",
       "    <tr>\n",
       "      <th>ci high</th>\n",
       "      <td>3.17889</td>\n",
       "      <td>1.0585</td>\n",
       "      <td>1.0257</td>\n",
       "      <td>1.03334</td>\n",
       "    </tr>\n",
       "  </tbody>\n",
       "</table>\n",
       "</div>"
      ],
      "text/plain": [
       "                                                     popularity  \\\n",
       "5-fold score  [3.177941281084362, 3.1750480150769977, 3.1474...   \n",
       "mean                                                    3.15909   \n",
       "ci low                                                  3.13929   \n",
       "ci high                                                 3.17889   \n",
       "\n",
       "                                                    useraverage  \\\n",
       "5-fold score  [1.0629951276561334, 1.0467467492319966, 1.032...   \n",
       "mean                                                    1.04372   \n",
       "ci low                                                  1.02893   \n",
       "ci high                                                  1.0585   \n",
       "\n",
       "                                                    user-cosine  \\\n",
       "5-fold score  [1.026449013124381, 1.0214387664779507, 1.0132...   \n",
       "mean                                                    1.01735   \n",
       "ci low                                                  1.00901   \n",
       "ci high                                                  1.0257   \n",
       "\n",
       "                                                    item-cosine  \n",
       "5-fold score  [1.0377631264364244, 1.0207280585350078, 1.010...  \n",
       "mean                                                    1.02008  \n",
       "ci low                                                  1.00682  \n",
       "ci high                                                 1.03334  "
      ]
     },
     "execution_count": 45,
     "metadata": {},
     "output_type": "execute_result"
    }
   ],
   "source": [
    "rmse_df"
   ]
  },
  {
   "cell_type": "markdown",
   "metadata": {},
   "source": [
    "## P@K"
   ]
  },
  {
   "cell_type": "code",
   "execution_count": 46,
   "metadata": {
    "scrolled": true
   },
   "outputs": [
    {
     "name": "stdout",
     "output_type": "stream",
     "text": [
      "Processing algorithm popularity\n",
      "calculated 0 users\n",
      "calculated 100 users\n",
      "calculated 200 users\n",
      "calculated 300 users\n",
      "calculated 400 users\n",
      "calculated 500 users\n",
      "calculated 600 users\n",
      "calculated 700 users\n",
      "calculated 800 users\n"
     ]
    },
    {
     "name": "stderr",
     "output_type": "stream",
     "text": [
      "311it [00:00, 3104.60it/s]"
     ]
    },
    {
     "name": "stdout",
     "output_type": "stream",
     "text": [
      "calculated 900 users\n"
     ]
    },
    {
     "name": "stderr",
     "output_type": "stream",
     "text": [
      "20000it [00:06, 3014.91it/s]\n"
     ]
    },
    {
     "name": "stdout",
     "output_type": "stream",
     "text": [
      "calculated 0 users\n",
      "calculated 100 users\n",
      "calculated 200 users\n",
      "calculated 300 users\n",
      "calculated 400 users\n",
      "calculated 500 users\n",
      "calculated 600 users\n",
      "calculated 700 users\n",
      "calculated 800 users\n",
      "calculated 900 users\n"
     ]
    },
    {
     "name": "stderr",
     "output_type": "stream",
     "text": [
      "20000it [00:06, 3071.44it/s]\n"
     ]
    },
    {
     "name": "stdout",
     "output_type": "stream",
     "text": [
      "calculated 0 users\n",
      "calculated 100 users\n",
      "calculated 200 users\n",
      "calculated 300 users\n",
      "calculated 400 users\n",
      "calculated 500 users\n",
      "calculated 600 users\n",
      "calculated 700 users\n"
     ]
    },
    {
     "name": "stderr",
     "output_type": "stream",
     "text": [
      "\r",
      "0it [00:00, ?it/s]"
     ]
    },
    {
     "name": "stdout",
     "output_type": "stream",
     "text": [
      "calculated 800 users\n",
      "calculated 900 users\n"
     ]
    },
    {
     "name": "stderr",
     "output_type": "stream",
     "text": [
      "20000it [00:06, 3039.25it/s]\n"
     ]
    },
    {
     "name": "stdout",
     "output_type": "stream",
     "text": [
      "calculated 0 users\n",
      "calculated 100 users\n",
      "calculated 200 users\n",
      "calculated 300 users\n",
      "calculated 400 users\n",
      "calculated 500 users\n",
      "calculated 600 users\n",
      "calculated 700 users\n"
     ]
    },
    {
     "name": "stderr",
     "output_type": "stream",
     "text": [
      "\r",
      "0it [00:00, ?it/s]"
     ]
    },
    {
     "name": "stdout",
     "output_type": "stream",
     "text": [
      "calculated 800 users\n",
      "calculated 900 users\n"
     ]
    },
    {
     "name": "stderr",
     "output_type": "stream",
     "text": [
      "20000it [00:06, 3028.61it/s]\n"
     ]
    },
    {
     "name": "stdout",
     "output_type": "stream",
     "text": [
      "calculated 0 users\n",
      "calculated 100 users\n",
      "calculated 200 users\n",
      "calculated 300 users\n",
      "calculated 400 users\n",
      "calculated 500 users\n",
      "calculated 600 users\n",
      "calculated 700 users\n"
     ]
    },
    {
     "name": "stderr",
     "output_type": "stream",
     "text": [
      "318it [00:00, 3178.06it/s]"
     ]
    },
    {
     "name": "stdout",
     "output_type": "stream",
     "text": [
      "calculated 800 users\n",
      "calculated 900 users\n"
     ]
    },
    {
     "name": "stderr",
     "output_type": "stream",
     "text": [
      "20000it [00:06, 3177.74it/s]\n"
     ]
    },
    {
     "name": "stdout",
     "output_type": "stream",
     "text": [
      "Processing algorithm useraverage\n",
      "calculated 0 users\n",
      "calculated 100 users\n",
      "calculated 200 users\n",
      "calculated 300 users\n",
      "calculated 400 users\n",
      "calculated 500 users\n",
      "calculated 600 users\n",
      "calculated 700 users\n",
      "calculated 800 users\n",
      "calculated 900 users\n"
     ]
    },
    {
     "name": "stderr",
     "output_type": "stream",
     "text": [
      "20000it [00:06, 3325.46it/s]\n"
     ]
    },
    {
     "name": "stdout",
     "output_type": "stream",
     "text": [
      "calculated 0 users\n",
      "calculated 100 users\n",
      "calculated 200 users\n",
      "calculated 300 users\n",
      "calculated 400 users\n",
      "calculated 500 users\n",
      "calculated 600 users\n",
      "calculated 700 users\n",
      "calculated 800 users\n",
      "calculated 900 users\n"
     ]
    },
    {
     "name": "stderr",
     "output_type": "stream",
     "text": [
      "20000it [00:06, 3315.36it/s]\n"
     ]
    },
    {
     "name": "stdout",
     "output_type": "stream",
     "text": [
      "calculated 0 users\n",
      "calculated 100 users\n",
      "calculated 200 users\n",
      "calculated 300 users\n",
      "calculated 400 users\n",
      "calculated 500 users\n",
      "calculated 600 users\n",
      "calculated 700 users\n",
      "calculated 800 users\n",
      "calculated 900 users\n"
     ]
    },
    {
     "name": "stderr",
     "output_type": "stream",
     "text": [
      "20000it [00:05, 3353.08it/s]\n"
     ]
    },
    {
     "name": "stdout",
     "output_type": "stream",
     "text": [
      "calculated 0 users\n",
      "calculated 100 users\n",
      "calculated 200 users\n",
      "calculated 300 users\n",
      "calculated 400 users\n",
      "calculated 500 users\n",
      "calculated 600 users\n",
      "calculated 700 users\n",
      "calculated 800 users\n",
      "calculated 900 users\n"
     ]
    },
    {
     "name": "stderr",
     "output_type": "stream",
     "text": [
      "20000it [00:06, 3330.61it/s]\n"
     ]
    },
    {
     "name": "stdout",
     "output_type": "stream",
     "text": [
      "calculated 0 users\n",
      "calculated 100 users\n",
      "calculated 200 users\n",
      "calculated 300 users\n",
      "calculated 400 users\n",
      "calculated 500 users\n",
      "calculated 600 users\n",
      "calculated 700 users\n",
      "calculated 800 users\n",
      "calculated 900 users\n"
     ]
    },
    {
     "name": "stderr",
     "output_type": "stream",
     "text": [
      "20000it [00:06, 3272.61it/s]\n",
      "0it [00:00, ?it/s]"
     ]
    },
    {
     "name": "stdout",
     "output_type": "stream",
     "text": [
      "Processing algorithm user-cosine\n"
     ]
    },
    {
     "name": "stderr",
     "output_type": "stream",
     "text": [
      "20000it [00:05, 3362.72it/s]\n",
      "20000it [00:05, 3473.44it/s]\n",
      "20000it [00:05, 3365.00it/s]\n",
      "20000it [00:06, 3049.22it/s]\n",
      "20000it [00:06, 3306.43it/s]\n"
     ]
    },
    {
     "name": "stdout",
     "output_type": "stream",
     "text": [
      "Processing algorithm item-cosine\n"
     ]
    },
    {
     "name": "stderr",
     "output_type": "stream",
     "text": [
      "/anaconda3/lib/python3.7/site-packages/ipykernel_launcher.py:124: RuntimeWarning: invalid value encountered in true_divide\n",
      "20000it [00:05, 3337.47it/s]\n",
      "/anaconda3/lib/python3.7/site-packages/ipykernel_launcher.py:124: RuntimeWarning: invalid value encountered in true_divide\n",
      "20000it [00:05, 3496.72it/s]\n",
      "/anaconda3/lib/python3.7/site-packages/ipykernel_launcher.py:124: RuntimeWarning: invalid value encountered in true_divide\n",
      "20000it [00:05, 3475.42it/s]\n",
      "/anaconda3/lib/python3.7/site-packages/ipykernel_launcher.py:124: RuntimeWarning: invalid value encountered in true_divide\n",
      "20000it [00:05, 3494.47it/s]\n",
      "/anaconda3/lib/python3.7/site-packages/ipykernel_launcher.py:124: RuntimeWarning: invalid value encountered in true_divide\n",
      "20000it [00:05, 3492.91it/s]\n"
     ]
    }
   ],
   "source": [
    "cv_patk = CrossValidation('P@K')\n",
    "patk_result = cv_patk.run(algorithm_instances, num_users, num_items,k=5)"
   ]
  },
  {
   "cell_type": "code",
   "execution_count": 47,
   "metadata": {
    "scrolled": true
   },
   "outputs": [
    {
     "data": {
      "text/plain": [
       "{'popularity': [[0.36924708377518656,\n",
       "   0.4965005302226948,\n",
       "   0.6152704135737019,\n",
       "   0.6426299045599162,\n",
       "   0.6292682926829279],\n",
       "  0.5505832449628855,\n",
       "  0.40544114481568705,\n",
       "  0.6957253451100839],\n",
       " 'useraverage': [[0.30604453870625714,\n",
       "   0.4305408271474029,\n",
       "   0.5321314952279973,\n",
       "   0.5520678685047737,\n",
       "   0.5474019088016986],\n",
       "  0.4736373276776259,\n",
       "  0.3419993013451059,\n",
       "  0.6052753540101459],\n",
       " 'user-cosine': [[0.37179215270413657,\n",
       "   0.503923647932133,\n",
       "   0.621633085896077,\n",
       "   0.6483563096500541,\n",
       "   0.6335100742311777],\n",
       "  0.5558430540827157,\n",
       "  0.40959849499983714,\n",
       "  0.7020876131655943],\n",
       " 'item-cosine': [[0.34316012725344736,\n",
       "   0.483563096500532,\n",
       "   0.6021208907741271,\n",
       "   0.6248144220572649,\n",
       "   0.6074231177094392],\n",
       "  0.5322163308589621,\n",
       "  0.3837005215009889,\n",
       "  0.6807321402169354]}"
      ]
     },
     "execution_count": 47,
     "metadata": {},
     "output_type": "execute_result"
    }
   ],
   "source": [
    "patk_result"
   ]
  },
  {
   "cell_type": "code",
   "execution_count": 48,
   "metadata": {},
   "outputs": [
    {
     "data": {
      "text/html": [
       "<div>\n",
       "<style scoped>\n",
       "    .dataframe tbody tr th:only-of-type {\n",
       "        vertical-align: middle;\n",
       "    }\n",
       "\n",
       "    .dataframe tbody tr th {\n",
       "        vertical-align: top;\n",
       "    }\n",
       "\n",
       "    .dataframe thead th {\n",
       "        text-align: right;\n",
       "    }\n",
       "</style>\n",
       "<table border=\"1\" class=\"dataframe\">\n",
       "  <thead>\n",
       "    <tr style=\"text-align: right;\">\n",
       "      <th></th>\n",
       "      <th>popularity</th>\n",
       "      <th>useraverage</th>\n",
       "      <th>user-cosine</th>\n",
       "      <th>item-cosine</th>\n",
       "    </tr>\n",
       "  </thead>\n",
       "  <tbody>\n",
       "    <tr>\n",
       "      <th>5-fold score</th>\n",
       "      <td>[0.36924708377518656, 0.4965005302226948, 0.61...</td>\n",
       "      <td>[0.30604453870625714, 0.4305408271474029, 0.53...</td>\n",
       "      <td>[0.37179215270413657, 0.503923647932133, 0.621...</td>\n",
       "      <td>[0.34316012725344736, 0.483563096500532, 0.602...</td>\n",
       "    </tr>\n",
       "    <tr>\n",
       "      <th>mean</th>\n",
       "      <td>0.550583</td>\n",
       "      <td>0.473637</td>\n",
       "      <td>0.555843</td>\n",
       "      <td>0.532216</td>\n",
       "    </tr>\n",
       "    <tr>\n",
       "      <th>ci low</th>\n",
       "      <td>0.405441</td>\n",
       "      <td>0.341999</td>\n",
       "      <td>0.409598</td>\n",
       "      <td>0.383701</td>\n",
       "    </tr>\n",
       "    <tr>\n",
       "      <th>ci high</th>\n",
       "      <td>0.695725</td>\n",
       "      <td>0.605275</td>\n",
       "      <td>0.702088</td>\n",
       "      <td>0.680732</td>\n",
       "    </tr>\n",
       "  </tbody>\n",
       "</table>\n",
       "</div>"
      ],
      "text/plain": [
       "                                                     popularity  \\\n",
       "5-fold score  [0.36924708377518656, 0.4965005302226948, 0.61...   \n",
       "mean                                                   0.550583   \n",
       "ci low                                                 0.405441   \n",
       "ci high                                                0.695725   \n",
       "\n",
       "                                                    useraverage  \\\n",
       "5-fold score  [0.30604453870625714, 0.4305408271474029, 0.53...   \n",
       "mean                                                   0.473637   \n",
       "ci low                                                 0.341999   \n",
       "ci high                                                0.605275   \n",
       "\n",
       "                                                    user-cosine  \\\n",
       "5-fold score  [0.37179215270413657, 0.503923647932133, 0.621...   \n",
       "mean                                                   0.555843   \n",
       "ci low                                                 0.409598   \n",
       "ci high                                                0.702088   \n",
       "\n",
       "                                                    item-cosine  \n",
       "5-fold score  [0.34316012725344736, 0.483563096500532, 0.602...  \n",
       "mean                                                   0.532216  \n",
       "ci low                                                 0.383701  \n",
       "ci high                                                0.680732  "
      ]
     },
     "execution_count": 48,
     "metadata": {},
     "output_type": "execute_result"
    }
   ],
   "source": [
    "patk_df = pd.DataFrame(columns = list(patk_result.keys()),index=range(4))\n",
    "for elem in list(patk_df.keys()):\n",
    "    patk_df[elem].iloc[0] = patk_result[elem][0]\n",
    "    patk_df[elem].iloc[1] = patk_result[elem][1]\n",
    "    patk_df[elem].iloc[2] = patk_result[elem][2]\n",
    "    patk_df[elem].iloc[3] = patk_result[elem][3]\n",
    "patk_df = patk_df.rename(index={0: '5-fold score', 1: 'mean', 2: 'ci low',3:'ci high'})\n",
    "patk_df"
   ]
  },
  {
   "cell_type": "markdown",
   "metadata": {},
   "source": [
    "## R@K"
   ]
  },
  {
   "cell_type": "code",
   "execution_count": 49,
   "metadata": {
    "scrolled": true
   },
   "outputs": [
    {
     "name": "stdout",
     "output_type": "stream",
     "text": [
      "Processing algorithm popularity\n",
      "calculated 0 users\n",
      "calculated 100 users\n",
      "calculated 200 users\n",
      "calculated 300 users\n",
      "calculated 400 users\n",
      "calculated 500 users\n",
      "calculated 600 users\n",
      "calculated 700 users\n",
      "calculated 800 users\n"
     ]
    },
    {
     "name": "stderr",
     "output_type": "stream",
     "text": [
      "340it [00:00, 3392.43it/s]"
     ]
    },
    {
     "name": "stdout",
     "output_type": "stream",
     "text": [
      "calculated 900 users\n"
     ]
    },
    {
     "name": "stderr",
     "output_type": "stream",
     "text": [
      "20000it [00:05, 3478.35it/s]\n"
     ]
    },
    {
     "name": "stdout",
     "output_type": "stream",
     "text": [
      "calculated 0 users\n",
      "calculated 100 users\n",
      "calculated 200 users\n",
      "calculated 300 users\n",
      "calculated 400 users\n",
      "calculated 500 users\n",
      "calculated 600 users\n",
      "calculated 700 users\n",
      "calculated 800 users\n"
     ]
    },
    {
     "name": "stderr",
     "output_type": "stream",
     "text": [
      "343it [00:00, 3425.21it/s]"
     ]
    },
    {
     "name": "stdout",
     "output_type": "stream",
     "text": [
      "calculated 900 users\n"
     ]
    },
    {
     "name": "stderr",
     "output_type": "stream",
     "text": [
      "20000it [00:05, 3474.48it/s]\n"
     ]
    },
    {
     "name": "stdout",
     "output_type": "stream",
     "text": [
      "calculated 0 users\n",
      "calculated 100 users\n",
      "calculated 200 users\n",
      "calculated 300 users\n",
      "calculated 400 users\n",
      "calculated 500 users\n",
      "calculated 600 users\n",
      "calculated 700 users\n",
      "calculated 800 users\n"
     ]
    },
    {
     "name": "stderr",
     "output_type": "stream",
     "text": [
      "351it [00:00, 3502.89it/s]"
     ]
    },
    {
     "name": "stdout",
     "output_type": "stream",
     "text": [
      "calculated 900 users\n"
     ]
    },
    {
     "name": "stderr",
     "output_type": "stream",
     "text": [
      "20000it [00:05, 3478.90it/s]\n"
     ]
    },
    {
     "name": "stdout",
     "output_type": "stream",
     "text": [
      "calculated 0 users\n",
      "calculated 100 users\n",
      "calculated 200 users\n",
      "calculated 300 users\n",
      "calculated 400 users\n",
      "calculated 500 users\n",
      "calculated 600 users\n",
      "calculated 700 users\n",
      "calculated 800 users\n"
     ]
    },
    {
     "name": "stderr",
     "output_type": "stream",
     "text": [
      "346it [00:00, 3457.72it/s]"
     ]
    },
    {
     "name": "stdout",
     "output_type": "stream",
     "text": [
      "calculated 900 users\n"
     ]
    },
    {
     "name": "stderr",
     "output_type": "stream",
     "text": [
      "20000it [00:05, 3512.77it/s]\n"
     ]
    },
    {
     "name": "stdout",
     "output_type": "stream",
     "text": [
      "calculated 0 users\n",
      "calculated 100 users\n",
      "calculated 200 users\n",
      "calculated 300 users\n",
      "calculated 400 users\n",
      "calculated 500 users\n",
      "calculated 600 users\n",
      "calculated 700 users\n",
      "calculated 800 users\n"
     ]
    },
    {
     "name": "stderr",
     "output_type": "stream",
     "text": [
      "349it [00:00, 3489.06it/s]"
     ]
    },
    {
     "name": "stdout",
     "output_type": "stream",
     "text": [
      "calculated 900 users\n"
     ]
    },
    {
     "name": "stderr",
     "output_type": "stream",
     "text": [
      "20000it [00:05, 3510.27it/s]\n"
     ]
    },
    {
     "name": "stdout",
     "output_type": "stream",
     "text": [
      "Processing algorithm useraverage\n",
      "calculated 0 users\n",
      "calculated 100 users\n",
      "calculated 200 users\n",
      "calculated 300 users\n",
      "calculated 400 users\n",
      "calculated 500 users\n",
      "calculated 600 users\n",
      "calculated 700 users\n",
      "calculated 800 users\n",
      "calculated 900 users\n"
     ]
    },
    {
     "name": "stderr",
     "output_type": "stream",
     "text": [
      "20000it [00:05, 3484.54it/s]\n"
     ]
    },
    {
     "name": "stdout",
     "output_type": "stream",
     "text": [
      "calculated 0 users\n",
      "calculated 100 users\n",
      "calculated 200 users\n",
      "calculated 300 users\n",
      "calculated 400 users\n",
      "calculated 500 users\n",
      "calculated 600 users\n",
      "calculated 700 users\n",
      "calculated 800 users\n",
      "calculated 900 users\n"
     ]
    },
    {
     "name": "stderr",
     "output_type": "stream",
     "text": [
      "20000it [00:05, 3453.88it/s]\n"
     ]
    },
    {
     "name": "stdout",
     "output_type": "stream",
     "text": [
      "calculated 0 users\n",
      "calculated 100 users\n",
      "calculated 200 users\n",
      "calculated 300 users\n",
      "calculated 400 users\n",
      "calculated 500 users\n",
      "calculated 600 users\n",
      "calculated 700 users\n",
      "calculated 800 users\n",
      "calculated 900 users\n"
     ]
    },
    {
     "name": "stderr",
     "output_type": "stream",
     "text": [
      "20000it [00:05, 3463.96it/s]\n"
     ]
    },
    {
     "name": "stdout",
     "output_type": "stream",
     "text": [
      "calculated 0 users\n",
      "calculated 100 users\n",
      "calculated 200 users\n",
      "calculated 300 users\n",
      "calculated 400 users\n",
      "calculated 500 users\n",
      "calculated 600 users\n",
      "calculated 700 users\n",
      "calculated 800 users\n",
      "calculated 900 users\n"
     ]
    },
    {
     "name": "stderr",
     "output_type": "stream",
     "text": [
      "20000it [00:05, 3465.39it/s]\n"
     ]
    },
    {
     "name": "stdout",
     "output_type": "stream",
     "text": [
      "calculated 0 users\n",
      "calculated 100 users\n",
      "calculated 200 users\n",
      "calculated 300 users\n",
      "calculated 400 users\n",
      "calculated 500 users\n",
      "calculated 600 users\n",
      "calculated 700 users\n",
      "calculated 800 users\n",
      "calculated 900 users\n"
     ]
    },
    {
     "name": "stderr",
     "output_type": "stream",
     "text": [
      "20000it [00:05, 3496.25it/s]\n",
      "0it [00:00, ?it/s]"
     ]
    },
    {
     "name": "stdout",
     "output_type": "stream",
     "text": [
      "Processing algorithm user-cosine\n"
     ]
    },
    {
     "name": "stderr",
     "output_type": "stream",
     "text": [
      "20000it [00:05, 3475.58it/s]\n",
      "20000it [00:05, 3461.64it/s]\n",
      "20000it [00:05, 3472.66it/s]\n",
      "20000it [00:05, 3464.60it/s]\n",
      "20000it [00:06, 3228.08it/s]\n"
     ]
    },
    {
     "name": "stdout",
     "output_type": "stream",
     "text": [
      "Processing algorithm item-cosine\n"
     ]
    },
    {
     "name": "stderr",
     "output_type": "stream",
     "text": [
      "/anaconda3/lib/python3.7/site-packages/ipykernel_launcher.py:124: RuntimeWarning: invalid value encountered in true_divide\n",
      "20000it [00:05, 3457.74it/s]\n",
      "/anaconda3/lib/python3.7/site-packages/ipykernel_launcher.py:124: RuntimeWarning: invalid value encountered in true_divide\n",
      "20000it [00:05, 3481.39it/s]\n",
      "/anaconda3/lib/python3.7/site-packages/ipykernel_launcher.py:124: RuntimeWarning: invalid value encountered in true_divide\n",
      "20000it [00:06, 3189.33it/s]\n",
      "/anaconda3/lib/python3.7/site-packages/ipykernel_launcher.py:124: RuntimeWarning: invalid value encountered in true_divide\n",
      "20000it [00:06, 3235.12it/s]\n",
      "/anaconda3/lib/python3.7/site-packages/ipykernel_launcher.py:124: RuntimeWarning: invalid value encountered in true_divide\n",
      "20000it [00:05, 3420.94it/s]\n"
     ]
    }
   ],
   "source": [
    "cv_ratk = CrossValidation('R@K')\n",
    "ratk_result = cv_ratk.run(algorithm_instances, num_users, num_items,k=5)"
   ]
  },
  {
   "cell_type": "code",
   "execution_count": 50,
   "metadata": {
    "scrolled": true
   },
   "outputs": [
    {
     "data": {
      "text/plain": [
       "{'popularity': [[0.3466588624187514,\n",
       "   0.4274468698270901,\n",
       "   0.5269205125667804,\n",
       "   0.5518738761026849,\n",
       "   0.5674793185065369],\n",
       "  0.4840758878843688,\n",
       "  0.3671373629798323,\n",
       "  0.6010144127889052],\n",
       " 'useraverage': [[0.30505841002027845,\n",
       "   0.39554692074366876,\n",
       "   0.48030412192442223,\n",
       "   0.5045885853815734,\n",
       "   0.5211179870422066],\n",
       "  0.44132320502242983,\n",
       "  0.32931026359142457,\n",
       "  0.5533361464534351],\n",
       " 'user-cosine': [[0.34778041993806913,\n",
       "   0.4314035774468209,\n",
       "   0.5293633772333985,\n",
       "   0.5553818201403046,\n",
       "   0.5674144230096255],\n",
       "  0.4862687235536437,\n",
       "  0.3694473610987218,\n",
       "  0.6030900860085656],\n",
       " 'item-cosine': [[0.3277711938444533,\n",
       "   0.4237782250680911,\n",
       "   0.5191391022223312,\n",
       "   0.5448659224612776,\n",
       "   0.5593011306991799],\n",
       "  0.4749711148590666,\n",
       "  0.35357317503649865,\n",
       "  0.5963690546816346]}"
      ]
     },
     "execution_count": 50,
     "metadata": {},
     "output_type": "execute_result"
    }
   ],
   "source": [
    "ratk_result"
   ]
  },
  {
   "cell_type": "code",
   "execution_count": 51,
   "metadata": {},
   "outputs": [
    {
     "data": {
      "text/html": [
       "<div>\n",
       "<style scoped>\n",
       "    .dataframe tbody tr th:only-of-type {\n",
       "        vertical-align: middle;\n",
       "    }\n",
       "\n",
       "    .dataframe tbody tr th {\n",
       "        vertical-align: top;\n",
       "    }\n",
       "\n",
       "    .dataframe thead th {\n",
       "        text-align: right;\n",
       "    }\n",
       "</style>\n",
       "<table border=\"1\" class=\"dataframe\">\n",
       "  <thead>\n",
       "    <tr style=\"text-align: right;\">\n",
       "      <th></th>\n",
       "      <th>popularity</th>\n",
       "      <th>useraverage</th>\n",
       "      <th>user-cosine</th>\n",
       "      <th>item-cosine</th>\n",
       "    </tr>\n",
       "  </thead>\n",
       "  <tbody>\n",
       "    <tr>\n",
       "      <th>5-fold score</th>\n",
       "      <td>[0.3466588624187514, 0.4274468698270901, 0.526...</td>\n",
       "      <td>[0.30505841002027845, 0.39554692074366876, 0.4...</td>\n",
       "      <td>[0.34778041993806913, 0.4314035774468209, 0.52...</td>\n",
       "      <td>[0.3277711938444533, 0.4237782250680911, 0.519...</td>\n",
       "    </tr>\n",
       "    <tr>\n",
       "      <th>mean</th>\n",
       "      <td>0.484076</td>\n",
       "      <td>0.441323</td>\n",
       "      <td>0.486269</td>\n",
       "      <td>0.474971</td>\n",
       "    </tr>\n",
       "    <tr>\n",
       "      <th>ci low</th>\n",
       "      <td>0.367137</td>\n",
       "      <td>0.32931</td>\n",
       "      <td>0.369447</td>\n",
       "      <td>0.353573</td>\n",
       "    </tr>\n",
       "    <tr>\n",
       "      <th>ci high</th>\n",
       "      <td>0.601014</td>\n",
       "      <td>0.553336</td>\n",
       "      <td>0.60309</td>\n",
       "      <td>0.596369</td>\n",
       "    </tr>\n",
       "  </tbody>\n",
       "</table>\n",
       "</div>"
      ],
      "text/plain": [
       "                                                     popularity  \\\n",
       "5-fold score  [0.3466588624187514, 0.4274468698270901, 0.526...   \n",
       "mean                                                   0.484076   \n",
       "ci low                                                 0.367137   \n",
       "ci high                                                0.601014   \n",
       "\n",
       "                                                    useraverage  \\\n",
       "5-fold score  [0.30505841002027845, 0.39554692074366876, 0.4...   \n",
       "mean                                                   0.441323   \n",
       "ci low                                                  0.32931   \n",
       "ci high                                                0.553336   \n",
       "\n",
       "                                                    user-cosine  \\\n",
       "5-fold score  [0.34778041993806913, 0.4314035774468209, 0.52...   \n",
       "mean                                                   0.486269   \n",
       "ci low                                                 0.369447   \n",
       "ci high                                                 0.60309   \n",
       "\n",
       "                                                    item-cosine  \n",
       "5-fold score  [0.3277711938444533, 0.4237782250680911, 0.519...  \n",
       "mean                                                   0.474971  \n",
       "ci low                                                 0.353573  \n",
       "ci high                                                0.596369  "
      ]
     },
     "execution_count": 51,
     "metadata": {},
     "output_type": "execute_result"
    }
   ],
   "source": [
    "ratk_df = pd.DataFrame(columns = list(ratk_result.keys()),index=range(4))\n",
    "for elem in list(ratk_result.keys()):\n",
    "    ratk_df[elem].iloc[0] = ratk_result[elem][0]\n",
    "    ratk_df[elem].iloc[1] = ratk_result[elem][1]\n",
    "    ratk_df[elem].iloc[2] = ratk_result[elem][2]\n",
    "    ratk_df[elem].iloc[3] = ratk_result[elem][3]\n",
    "ratk_df = ratk_df.rename(index={0: '5-fold score', 1: 'mean', 2: 'ci low',3:'ci high'})\n",
    "ratk_df"
   ]
  },
  {
   "cell_type": "markdown",
   "metadata": {},
   "source": [
    "Popularity-based recommendation can not be evaluated by RMSE because popularity is calculated as (number of users liked/number of users rate), where the actual ratings are from 1-5."
   ]
  },
  {
   "cell_type": "markdown",
   "metadata": {},
   "source": [
    "user-cosine outperfroms all other three recommendation baselines in all three measurements. user-cosine has way more entries than other three recommendations so it helps reducing bias and improve performance."
   ]
  },
  {
   "cell_type": "markdown",
   "metadata": {},
   "source": [
    "Good performance on RMSE does not imply good performance in ranking matrix becuase RMSE is only indicates Euclidean distance between predictions but in ranking the focus is on the ratio of accurate predictions in the first several predictions.<br>\n",
    "Good performance on ranking matrics does not imply good performance in RMSE as well. It only guarantees the first several predictions we care about is accurate and has low RMSE value but it does not hold for overall RMSE."
   ]
  },
  {
   "cell_type": "markdown",
   "metadata": {},
   "source": [
    "## IV. Similarity Evaluation"
   ]
  },
  {
   "cell_type": "markdown",
   "metadata": {},
   "source": [
    "### (a)"
   ]
  },
  {
   "cell_type": "code",
   "execution_count": 52,
   "metadata": {},
   "outputs": [
    {
     "data": {
      "text/html": [
       "<div>\n",
       "<style scoped>\n",
       "    .dataframe tbody tr th:only-of-type {\n",
       "        vertical-align: middle;\n",
       "    }\n",
       "\n",
       "    .dataframe tbody tr th {\n",
       "        vertical-align: top;\n",
       "    }\n",
       "\n",
       "    .dataframe thead th {\n",
       "        text-align: right;\n",
       "    }\n",
       "</style>\n",
       "<table border=\"1\" class=\"dataframe\">\n",
       "  <thead>\n",
       "    <tr style=\"text-align: right;\">\n",
       "      <th></th>\n",
       "      <th>movieID</th>\n",
       "      <th>movieTitle</th>\n",
       "      <th>releaseDate</th>\n",
       "      <th>videoReleaseDate</th>\n",
       "      <th>IMDbURL</th>\n",
       "      <th>unknown</th>\n",
       "      <th>action</th>\n",
       "      <th>adventure</th>\n",
       "      <th>animation</th>\n",
       "      <th>childrens</th>\n",
       "      <th>...</th>\n",
       "      <th>fantasy</th>\n",
       "      <th>filmNoir</th>\n",
       "      <th>horror</th>\n",
       "      <th>musical</th>\n",
       "      <th>mystery</th>\n",
       "      <th>romance</th>\n",
       "      <th>sciFi</th>\n",
       "      <th>thriller</th>\n",
       "      <th>war</th>\n",
       "      <th>western</th>\n",
       "    </tr>\n",
       "  </thead>\n",
       "  <tbody>\n",
       "    <tr>\n",
       "      <th>0</th>\n",
       "      <td>1</td>\n",
       "      <td>Toy Story (1995)</td>\n",
       "      <td>01-Jan-1995</td>\n",
       "      <td>NaN</td>\n",
       "      <td>http://us.imdb.com/M/title-exact?Toy%20Story%2...</td>\n",
       "      <td>0</td>\n",
       "      <td>0</td>\n",
       "      <td>0</td>\n",
       "      <td>1</td>\n",
       "      <td>1</td>\n",
       "      <td>...</td>\n",
       "      <td>0</td>\n",
       "      <td>0</td>\n",
       "      <td>0</td>\n",
       "      <td>0</td>\n",
       "      <td>0</td>\n",
       "      <td>0</td>\n",
       "      <td>0</td>\n",
       "      <td>0</td>\n",
       "      <td>0</td>\n",
       "      <td>0</td>\n",
       "    </tr>\n",
       "    <tr>\n",
       "      <th>1</th>\n",
       "      <td>2</td>\n",
       "      <td>GoldenEye (1995)</td>\n",
       "      <td>01-Jan-1995</td>\n",
       "      <td>NaN</td>\n",
       "      <td>http://us.imdb.com/M/title-exact?GoldenEye%20(...</td>\n",
       "      <td>0</td>\n",
       "      <td>1</td>\n",
       "      <td>1</td>\n",
       "      <td>0</td>\n",
       "      <td>0</td>\n",
       "      <td>...</td>\n",
       "      <td>0</td>\n",
       "      <td>0</td>\n",
       "      <td>0</td>\n",
       "      <td>0</td>\n",
       "      <td>0</td>\n",
       "      <td>0</td>\n",
       "      <td>0</td>\n",
       "      <td>1</td>\n",
       "      <td>0</td>\n",
       "      <td>0</td>\n",
       "    </tr>\n",
       "    <tr>\n",
       "      <th>2</th>\n",
       "      <td>3</td>\n",
       "      <td>Four Rooms (1995)</td>\n",
       "      <td>01-Jan-1995</td>\n",
       "      <td>NaN</td>\n",
       "      <td>http://us.imdb.com/M/title-exact?Four%20Rooms%...</td>\n",
       "      <td>0</td>\n",
       "      <td>0</td>\n",
       "      <td>0</td>\n",
       "      <td>0</td>\n",
       "      <td>0</td>\n",
       "      <td>...</td>\n",
       "      <td>0</td>\n",
       "      <td>0</td>\n",
       "      <td>0</td>\n",
       "      <td>0</td>\n",
       "      <td>0</td>\n",
       "      <td>0</td>\n",
       "      <td>0</td>\n",
       "      <td>1</td>\n",
       "      <td>0</td>\n",
       "      <td>0</td>\n",
       "    </tr>\n",
       "    <tr>\n",
       "      <th>3</th>\n",
       "      <td>4</td>\n",
       "      <td>Get Shorty (1995)</td>\n",
       "      <td>01-Jan-1995</td>\n",
       "      <td>NaN</td>\n",
       "      <td>http://us.imdb.com/M/title-exact?Get%20Shorty%...</td>\n",
       "      <td>0</td>\n",
       "      <td>1</td>\n",
       "      <td>0</td>\n",
       "      <td>0</td>\n",
       "      <td>0</td>\n",
       "      <td>...</td>\n",
       "      <td>0</td>\n",
       "      <td>0</td>\n",
       "      <td>0</td>\n",
       "      <td>0</td>\n",
       "      <td>0</td>\n",
       "      <td>0</td>\n",
       "      <td>0</td>\n",
       "      <td>0</td>\n",
       "      <td>0</td>\n",
       "      <td>0</td>\n",
       "    </tr>\n",
       "    <tr>\n",
       "      <th>4</th>\n",
       "      <td>5</td>\n",
       "      <td>Copycat (1995)</td>\n",
       "      <td>01-Jan-1995</td>\n",
       "      <td>NaN</td>\n",
       "      <td>http://us.imdb.com/M/title-exact?Copycat%20(1995)</td>\n",
       "      <td>0</td>\n",
       "      <td>0</td>\n",
       "      <td>0</td>\n",
       "      <td>0</td>\n",
       "      <td>0</td>\n",
       "      <td>...</td>\n",
       "      <td>0</td>\n",
       "      <td>0</td>\n",
       "      <td>0</td>\n",
       "      <td>0</td>\n",
       "      <td>0</td>\n",
       "      <td>0</td>\n",
       "      <td>0</td>\n",
       "      <td>1</td>\n",
       "      <td>0</td>\n",
       "      <td>0</td>\n",
       "    </tr>\n",
       "  </tbody>\n",
       "</table>\n",
       "<p>5 rows × 24 columns</p>\n",
       "</div>"
      ],
      "text/plain": [
       "   movieID         movieTitle  releaseDate  videoReleaseDate  \\\n",
       "0        1   Toy Story (1995)  01-Jan-1995               NaN   \n",
       "1        2   GoldenEye (1995)  01-Jan-1995               NaN   \n",
       "2        3  Four Rooms (1995)  01-Jan-1995               NaN   \n",
       "3        4  Get Shorty (1995)  01-Jan-1995               NaN   \n",
       "4        5     Copycat (1995)  01-Jan-1995               NaN   \n",
       "\n",
       "                                             IMDbURL  unknown  action  \\\n",
       "0  http://us.imdb.com/M/title-exact?Toy%20Story%2...        0       0   \n",
       "1  http://us.imdb.com/M/title-exact?GoldenEye%20(...        0       1   \n",
       "2  http://us.imdb.com/M/title-exact?Four%20Rooms%...        0       0   \n",
       "3  http://us.imdb.com/M/title-exact?Get%20Shorty%...        0       1   \n",
       "4  http://us.imdb.com/M/title-exact?Copycat%20(1995)        0       0   \n",
       "\n",
       "   adventure  animation  childrens  ...  fantasy  filmNoir  horror  musical  \\\n",
       "0          0          1          1  ...        0         0       0        0   \n",
       "1          1          0          0  ...        0         0       0        0   \n",
       "2          0          0          0  ...        0         0       0        0   \n",
       "3          0          0          0  ...        0         0       0        0   \n",
       "4          0          0          0  ...        0         0       0        0   \n",
       "\n",
       "   mystery  romance  sciFi  thriller  war  western  \n",
       "0        0        0      0         0    0        0  \n",
       "1        0        0      0         1    0        0  \n",
       "2        0        0      0         1    0        0  \n",
       "3        0        0      0         0    0        0  \n",
       "4        0        0      0         1    0        0  \n",
       "\n",
       "[5 rows x 24 columns]"
      ]
     },
     "execution_count": 52,
     "metadata": {},
     "output_type": "execute_result"
    }
   ],
   "source": [
    "np.seterr(divide='ignore', invalid='ignore')\n",
    "fieldsMovies = ['movieID', 'movieTitle', 'releaseDate', 'videoReleaseDate', 'IMDbURL', 'unknown', 'action', 'adventure',\n",
    "          'animation', 'childrens', 'comedy', 'crime', 'documentary', 'drama', 'fantasy', 'filmNoir', 'horror',\n",
    "          'musical', 'mystery', 'romance','sciFi', 'thriller', 'war', 'western']\n",
    "moviesDF = pd.read_csv(os.path.join(MOVIELENS_DIR, 'u.item'), sep='|', names=fieldsMovies, encoding='latin-1')\n",
    "\n",
    "moviesDF.head()"
   ]
  },
  {
   "cell_type": "code",
   "execution_count": 53,
   "metadata": {},
   "outputs": [
    {
     "name": "stderr",
     "output_type": "stream",
     "text": [
      "/anaconda3/lib/python3.7/site-packages/ipykernel_launcher.py:1: FutureWarning: Method .as_matrix will be removed in a future version. Use .values instead.\n",
      "  \"\"\"Entry point for launching an IPython kernel.\n"
     ]
    }
   ],
   "source": [
    "movies_matrix = moviesDF.as_matrix()[:, 5:]"
   ]
  },
  {
   "cell_type": "code",
   "execution_count": 54,
   "metadata": {},
   "outputs": [
    {
     "data": {
      "text/plain": [
       "array([[0, 0, 0, ..., 0, 0, 0],\n",
       "       [0, 1, 1, ..., 1, 0, 0],\n",
       "       [0, 0, 0, ..., 1, 0, 0],\n",
       "       ...,\n",
       "       [0, 0, 0, ..., 0, 0, 0],\n",
       "       [0, 0, 0, ..., 0, 0, 0],\n",
       "       [0, 0, 0, ..., 0, 0, 0]], dtype=object)"
      ]
     },
     "execution_count": 54,
     "metadata": {},
     "output_type": "execute_result"
    }
   ],
   "source": [
    "movies_matrix"
   ]
  },
  {
   "cell_type": "code",
   "execution_count": 55,
   "metadata": {},
   "outputs": [
    {
     "data": {
      "text/plain": [
       "(1682, 19)"
      ]
     },
     "execution_count": 55,
     "metadata": {},
     "output_type": "execute_result"
    }
   ],
   "source": [
    "movies_matrix.shape"
   ]
  },
  {
   "cell_type": "code",
   "execution_count": 56,
   "metadata": {},
   "outputs": [
    {
     "data": {
      "text/plain": [
       "array([[1.        , 0.        , 0.        , ..., 0.        , 0.57735027,\n",
       "        0.        ],\n",
       "       [0.        , 1.        , 0.57735027, ..., 0.        , 0.        ,\n",
       "        0.        ],\n",
       "       [0.        , 0.57735027, 1.        , ..., 0.        , 0.        ,\n",
       "        0.        ],\n",
       "       ...,\n",
       "       [0.        , 0.        , 0.        , ..., 1.        , 0.        ,\n",
       "        0.70710678],\n",
       "       [0.57735027, 0.        , 0.        , ..., 0.        , 1.        ,\n",
       "        0.        ],\n",
       "       [0.        , 0.        , 0.        , ..., 0.70710678, 0.        ,\n",
       "        1.        ]])"
      ]
     },
     "execution_count": 56,
     "metadata": {},
     "output_type": "execute_result"
    }
   ],
   "source": [
    "movis_cos_sim = SimBasedRecSys.cosine(movies_matrix)\n",
    "movis_cos_sim"
   ]
  },
  {
   "cell_type": "code",
   "execution_count": 57,
   "metadata": {},
   "outputs": [],
   "source": [
    "def similar_movies(seed):\n",
    "    #choose a random movie\n",
    "    n = np.random.randint(seed)\n",
    "    movie_name = moviesDF['movieTitle'].iloc[n]\n",
    "    #can't return itself \n",
    "    temp_list = np.delete(movis_cos_sim[n],n)\n",
    "    \n",
    "    similar_movies = temp_list.argsort()[-5:]\n",
    "    similar_movies_names = list(moviesDF['movieTitle'].iloc[similar_movies])\n",
    "    print('Chosen movie: '+ movie_name)\n",
    "    print('Similar movies: '+ \"|\".join(similar_movies_names))\n",
    "    #return movie_name, similar_movies_names\n"
   ]
  },
  {
   "cell_type": "code",
   "execution_count": 59,
   "metadata": {},
   "outputs": [
    {
     "name": "stdout",
     "output_type": "stream",
     "text": [
      "Chosen movie: From Dusk Till Dawn (1996)\n",
      "Similar movies: Paris, Texas (1984)|Apollo 13 (1995)|Good Will Hunting (1997)|Best Men (1997)|Robin Hood: Men in Tights (1993)\n"
     ]
    }
   ],
   "source": [
    "similar_movies(20)"
   ]
  },
  {
   "cell_type": "code",
   "execution_count": 60,
   "metadata": {},
   "outputs": [
    {
     "name": "stdout",
     "output_type": "stream",
     "text": [
      "Chosen movie: City of Lost Children, The (1995)\n",
      "Similar movies: Star Trek VI: The Undiscovered Country (1991)|Star Trek: First Contact (1996)|Star Trek: The Motion Picture (1979)|Star Trek: Generations (1994)|Harlem (1993)\n"
     ]
    }
   ],
   "source": [
    "similar_movies(1000)"
   ]
  },
  {
   "cell_type": "code",
   "execution_count": 61,
   "metadata": {},
   "outputs": [
    {
     "name": "stdout",
     "output_type": "stream",
     "text": [
      "Chosen movie: Sex, Lies, and Videotape (1989)\n",
      "Similar movies: National Lampoon's Senior Trip (1995)|Miller's Crossing (1990)|Gandhi (1982)|Jason's Lyric (1994)|You So Crazy (1994)\n"
     ]
    }
   ],
   "source": [
    "similar_movies(1500)"
   ]
  },
  {
   "cell_type": "markdown",
   "metadata": {},
   "source": [
    "For not-so-popular movies, we can not justify the similarity between two of them. This is becasue if there are very few ratings on both of movies, they are considered as similar in this case, which is not true."
   ]
  },
  {
   "cell_type": "markdown",
   "metadata": {},
   "source": [
    "## V. Testing with different user types"
   ]
  },
  {
   "cell_type": "code",
   "execution_count": 62,
   "metadata": {},
   "outputs": [
    {
     "data": {
      "text/html": [
       "<div>\n",
       "<style scoped>\n",
       "    .dataframe tbody tr th:only-of-type {\n",
       "        vertical-align: middle;\n",
       "    }\n",
       "\n",
       "    .dataframe tbody tr th {\n",
       "        vertical-align: top;\n",
       "    }\n",
       "\n",
       "    .dataframe thead th {\n",
       "        text-align: right;\n",
       "    }\n",
       "</style>\n",
       "<table border=\"1\" class=\"dataframe\">\n",
       "  <thead>\n",
       "    <tr style=\"text-align: right;\">\n",
       "      <th></th>\n",
       "      <th>userID</th>\n",
       "      <th>itemID</th>\n",
       "      <th>rating</th>\n",
       "      <th>timestamp</th>\n",
       "    </tr>\n",
       "  </thead>\n",
       "  <tbody>\n",
       "    <tr>\n",
       "      <th>0</th>\n",
       "      <td>196</td>\n",
       "      <td>242</td>\n",
       "      <td>3</td>\n",
       "      <td>881250949</td>\n",
       "    </tr>\n",
       "    <tr>\n",
       "      <th>1</th>\n",
       "      <td>186</td>\n",
       "      <td>302</td>\n",
       "      <td>3</td>\n",
       "      <td>891717742</td>\n",
       "    </tr>\n",
       "    <tr>\n",
       "      <th>2</th>\n",
       "      <td>22</td>\n",
       "      <td>377</td>\n",
       "      <td>1</td>\n",
       "      <td>878887116</td>\n",
       "    </tr>\n",
       "    <tr>\n",
       "      <th>3</th>\n",
       "      <td>244</td>\n",
       "      <td>51</td>\n",
       "      <td>2</td>\n",
       "      <td>880606923</td>\n",
       "    </tr>\n",
       "    <tr>\n",
       "      <th>4</th>\n",
       "      <td>166</td>\n",
       "      <td>346</td>\n",
       "      <td>1</td>\n",
       "      <td>886397596</td>\n",
       "    </tr>\n",
       "  </tbody>\n",
       "</table>\n",
       "</div>"
      ],
      "text/plain": [
       "   userID  itemID  rating  timestamp\n",
       "0     196     242       3  881250949\n",
       "1     186     302       3  891717742\n",
       "2      22     377       1  878887116\n",
       "3     244      51       2  880606923\n",
       "4     166     346       1  886397596"
      ]
     },
     "execution_count": 62,
     "metadata": {},
     "output_type": "execute_result"
    }
   ],
   "source": [
    "rating_df.head()"
   ]
  },
  {
   "cell_type": "code",
   "execution_count": 63,
   "metadata": {},
   "outputs": [
    {
     "data": {
      "text/plain": [
       "0"
      ]
     },
     "execution_count": 63,
     "metadata": {},
     "output_type": "execute_result"
    }
   ],
   "source": [
    "#sanity check\n",
    "rating_df['rating'].isnull().sum()"
   ]
  },
  {
   "cell_type": "code",
   "execution_count": 64,
   "metadata": {},
   "outputs": [
    {
     "data": {
      "text/plain": [
       "Counter({196: 39,\n",
       "         186: 92,\n",
       "         22: 128,\n",
       "         244: 238,\n",
       "         166: 20,\n",
       "         298: 127,\n",
       "         115: 92,\n",
       "         253: 97,\n",
       "         305: 222,\n",
       "         6: 211,\n",
       "         62: 232,\n",
       "         286: 288,\n",
       "         200: 216,\n",
       "         210: 132,\n",
       "         224: 141,\n",
       "         303: 484,\n",
       "         122: 61,\n",
       "         194: 305,\n",
       "         291: 296,\n",
       "         234: 480,\n",
       "         119: 181,\n",
       "         167: 69,\n",
       "         299: 280,\n",
       "         308: 397,\n",
       "         95: 278,\n",
       "         38: 121,\n",
       "         102: 216,\n",
       "         63: 93,\n",
       "         160: 120,\n",
       "         50: 24,\n",
       "         301: 275,\n",
       "         225: 27,\n",
       "         290: 150,\n",
       "         97: 63,\n",
       "         157: 51,\n",
       "         181: 435,\n",
       "         278: 23,\n",
       "         276: 518,\n",
       "         7: 403,\n",
       "         10: 184,\n",
       "         284: 47,\n",
       "         201: 386,\n",
       "         287: 62,\n",
       "         246: 195,\n",
       "         242: 20,\n",
       "         249: 161,\n",
       "         99: 136,\n",
       "         178: 273,\n",
       "         251: 77,\n",
       "         81: 58,\n",
       "         260: 24,\n",
       "         25: 78,\n",
       "         59: 382,\n",
       "         72: 137,\n",
       "         87: 211,\n",
       "         42: 183,\n",
       "         292: 124,\n",
       "         20: 48,\n",
       "         13: 636,\n",
       "         138: 51,\n",
       "         60: 208,\n",
       "         57: 106,\n",
       "         223: 105,\n",
       "         189: 187,\n",
       "         243: 81,\n",
       "         92: 388,\n",
       "         241: 23,\n",
       "         254: 159,\n",
       "         293: 388,\n",
       "         127: 23,\n",
       "         222: 387,\n",
       "         267: 185,\n",
       "         11: 181,\n",
       "         8: 59,\n",
       "         162: 42,\n",
       "         279: 434,\n",
       "         145: 316,\n",
       "         28: 79,\n",
       "         135: 55,\n",
       "         32: 41,\n",
       "         90: 300,\n",
       "         216: 131,\n",
       "         250: 122,\n",
       "         271: 278,\n",
       "         265: 46,\n",
       "         198: 181,\n",
       "         168: 69,\n",
       "         110: 133,\n",
       "         58: 154,\n",
       "         237: 48,\n",
       "         94: 400,\n",
       "         128: 184,\n",
       "         44: 151,\n",
       "         264: 120,\n",
       "         41: 52,\n",
       "         82: 168,\n",
       "         262: 160,\n",
       "         174: 177,\n",
       "         43: 221,\n",
       "         84: 68,\n",
       "         269: 323,\n",
       "         259: 46,\n",
       "         85: 288,\n",
       "         213: 126,\n",
       "         121: 74,\n",
       "         49: 215,\n",
       "         155: 22,\n",
       "         68: 34,\n",
       "         172: 27,\n",
       "         19: 20,\n",
       "         268: 328,\n",
       "         5: 175,\n",
       "         80: 29,\n",
       "         66: 38,\n",
       "         18: 277,\n",
       "         26: 107,\n",
       "         130: 353,\n",
       "         256: 207,\n",
       "         1: 272,\n",
       "         56: 187,\n",
       "         15: 104,\n",
       "         207: 230,\n",
       "         232: 93,\n",
       "         52: 56,\n",
       "         161: 58,\n",
       "         148: 65,\n",
       "         125: 182,\n",
       "         83: 155,\n",
       "         272: 51,\n",
       "         151: 307,\n",
       "         54: 65,\n",
       "         16: 140,\n",
       "         91: 98,\n",
       "         294: 150,\n",
       "         229: 30,\n",
       "         36: 20,\n",
       "         70: 131,\n",
       "         14: 98,\n",
       "         295: 196,\n",
       "         233: 110,\n",
       "         214: 128,\n",
       "         192: 35,\n",
       "         100: 59,\n",
       "         307: 112,\n",
       "         297: 192,\n",
       "         193: 121,\n",
       "         113: 51,\n",
       "         275: 95,\n",
       "         219: 28,\n",
       "         218: 53,\n",
       "         123: 54,\n",
       "         158: 173,\n",
       "         302: 21,\n",
       "         23: 151,\n",
       "         296: 147,\n",
       "         33: 24,\n",
       "         154: 51,\n",
       "         77: 72,\n",
       "         270: 138,\n",
       "         187: 56,\n",
       "         170: 22,\n",
       "         101: 67,\n",
       "         184: 251,\n",
       "         112: 46,\n",
       "         133: 26,\n",
       "         215: 93,\n",
       "         69: 65,\n",
       "         104: 111,\n",
       "         240: 24,\n",
       "         144: 206,\n",
       "         191: 27,\n",
       "         61: 21,\n",
       "         142: 33,\n",
       "         177: 115,\n",
       "         203: 43,\n",
       "         21: 179,\n",
       "         197: 118,\n",
       "         134: 25,\n",
       "         180: 63,\n",
       "         236: 124,\n",
       "         263: 123,\n",
       "         109: 234,\n",
       "         64: 200,\n",
       "         114: 48,\n",
       "         239: 159,\n",
       "         117: 86,\n",
       "         65: 80,\n",
       "         137: 47,\n",
       "         257: 57,\n",
       "         111: 24,\n",
       "         285: 32,\n",
       "         96: 56,\n",
       "         116: 143,\n",
       "         73: 66,\n",
       "         221: 146,\n",
       "         235: 94,\n",
       "         164: 63,\n",
       "         281: 26,\n",
       "         182: 28,\n",
       "         129: 30,\n",
       "         45: 48,\n",
       "         131: 30,\n",
       "         230: 133,\n",
       "         126: 45,\n",
       "         231: 21,\n",
       "         280: 258,\n",
       "         288: 75,\n",
       "         152: 106,\n",
       "         217: 76,\n",
       "         79: 55,\n",
       "         75: 79,\n",
       "         245: 22,\n",
       "         282: 22,\n",
       "         78: 21,\n",
       "         118: 71,\n",
       "         283: 53,\n",
       "         171: 28,\n",
       "         107: 22,\n",
       "         226: 50,\n",
       "         306: 32,\n",
       "         173: 43,\n",
       "         185: 48,\n",
       "         150: 32,\n",
       "         274: 71,\n",
       "         188: 112,\n",
       "         48: 66,\n",
       "         311: 294,\n",
       "         165: 30,\n",
       "         208: 33,\n",
       "         2: 62,\n",
       "         205: 22,\n",
       "         248: 56,\n",
       "         93: 20,\n",
       "         159: 107,\n",
       "         146: 29,\n",
       "         29: 34,\n",
       "         156: 37,\n",
       "         37: 57,\n",
       "         141: 107,\n",
       "         195: 96,\n",
       "         108: 33,\n",
       "         47: 25,\n",
       "         255: 83,\n",
       "         89: 76,\n",
       "         140: 21,\n",
       "         190: 59,\n",
       "         24: 68,\n",
       "         17: 28,\n",
       "         313: 262,\n",
       "         53: 28,\n",
       "         124: 24,\n",
       "         149: 36,\n",
       "         176: 63,\n",
       "         106: 64,\n",
       "         312: 223,\n",
       "         175: 38,\n",
       "         153: 23,\n",
       "         220: 22,\n",
       "         143: 20,\n",
       "         199: 40,\n",
       "         202: 20,\n",
       "         277: 54,\n",
       "         206: 64,\n",
       "         76: 82,\n",
       "         314: 245,\n",
       "         136: 35,\n",
       "         179: 42,\n",
       "         4: 24,\n",
       "         304: 26,\n",
       "         3: 54,\n",
       "         227: 58,\n",
       "         252: 21,\n",
       "         212: 25,\n",
       "         310: 21,\n",
       "         35: 25,\n",
       "         147: 20,\n",
       "         105: 23,\n",
       "         34: 20,\n",
       "         71: 38,\n",
       "         51: 23,\n",
       "         204: 42,\n",
       "         315: 87,\n",
       "         31: 36,\n",
       "         316: 75,\n",
       "         103: 29,\n",
       "         318: 174,\n",
       "         30: 43,\n",
       "         120: 26,\n",
       "         46: 27,\n",
       "         289: 27,\n",
       "         209: 33,\n",
       "         261: 27,\n",
       "         88: 21,\n",
       "         9: 22,\n",
       "         247: 26,\n",
       "         321: 125,\n",
       "         266: 23,\n",
       "         74: 39,\n",
       "         238: 29,\n",
       "         319: 23,\n",
       "         323: 89,\n",
       "         67: 30,\n",
       "         211: 37,\n",
       "         98: 27,\n",
       "         12: 51,\n",
       "         40: 35,\n",
       "         258: 23,\n",
       "         228: 21,\n",
       "         325: 142,\n",
       "         320: 154,\n",
       "         326: 187,\n",
       "         327: 284,\n",
       "         183: 53,\n",
       "         328: 283,\n",
       "         322: 51,\n",
       "         330: 147,\n",
       "         27: 25,\n",
       "         331: 70,\n",
       "         332: 183,\n",
       "         329: 65,\n",
       "         86: 23,\n",
       "         139: 24,\n",
       "         300: 20,\n",
       "         163: 23,\n",
       "         333: 26,\n",
       "         334: 333,\n",
       "         39: 22,\n",
       "         324: 66,\n",
       "         132: 22,\n",
       "         336: 130,\n",
       "         335: 22,\n",
       "         169: 37,\n",
       "         338: 75,\n",
       "         339: 254,\n",
       "         309: 20,\n",
       "         342: 201,\n",
       "         340: 44,\n",
       "         317: 22,\n",
       "         341: 21,\n",
       "         343: 237,\n",
       "         344: 190,\n",
       "         345: 232,\n",
       "         346: 193,\n",
       "         347: 199,\n",
       "         273: 22,\n",
       "         55: 21,\n",
       "         349: 41,\n",
       "         348: 58,\n",
       "         354: 233,\n",
       "         351: 44,\n",
       "         358: 43,\n",
       "         352: 42,\n",
       "         360: 102,\n",
       "         363: 311,\n",
       "         355: 26,\n",
       "         362: 25,\n",
       "         357: 76,\n",
       "         356: 24,\n",
       "         361: 121,\n",
       "         365: 58,\n",
       "         350: 50,\n",
       "         367: 58,\n",
       "         368: 45,\n",
       "         371: 51,\n",
       "         373: 233,\n",
       "         370: 75,\n",
       "         374: 274,\n",
       "         372: 66,\n",
       "         337: 34,\n",
       "         378: 375,\n",
       "         366: 33,\n",
       "         377: 33,\n",
       "         375: 28,\n",
       "         359: 27,\n",
       "         379: 196,\n",
       "         380: 162,\n",
       "         381: 127,\n",
       "         385: 281,\n",
       "         382: 53,\n",
       "         387: 304,\n",
       "         364: 20,\n",
       "         369: 22,\n",
       "         388: 52,\n",
       "         386: 23,\n",
       "         389: 271,\n",
       "         383: 71,\n",
       "         390: 31,\n",
       "         393: 448,\n",
       "         392: 111,\n",
       "         376: 30,\n",
       "         394: 149,\n",
       "         391: 121,\n",
       "         398: 172,\n",
       "         397: 102,\n",
       "         399: 319,\n",
       "         396: 54,\n",
       "         401: 153,\n",
       "         402: 68,\n",
       "         384: 22,\n",
       "         395: 57,\n",
       "         353: 25,\n",
       "         403: 50,\n",
       "         405: 737,\n",
       "         400: 22,\n",
       "         406: 342,\n",
       "         407: 226,\n",
       "         409: 203,\n",
       "         404: 44,\n",
       "         413: 50,\n",
       "         416: 493,\n",
       "         408: 27,\n",
       "         410: 28,\n",
       "         411: 58,\n",
       "         417: 365,\n",
       "         412: 51,\n",
       "         420: 36,\n",
       "         422: 97,\n",
       "         425: 204,\n",
       "         419: 32,\n",
       "         415: 24,\n",
       "         423: 64,\n",
       "         429: 414,\n",
       "         428: 55,\n",
       "         427: 31,\n",
       "         418: 20,\n",
       "         424: 44,\n",
       "         432: 62,\n",
       "         421: 62,\n",
       "         435: 379,\n",
       "         433: 41,\n",
       "         426: 101,\n",
       "         436: 145,\n",
       "         430: 65,\n",
       "         434: 44,\n",
       "         437: 263,\n",
       "         438: 33,\n",
       "         431: 21,\n",
       "         442: 143,\n",
       "         440: 51,\n",
       "         445: 135,\n",
       "         447: 139,\n",
       "         449: 75,\n",
       "         450: 540,\n",
       "         446: 36,\n",
       "         439: 31,\n",
       "         451: 98,\n",
       "         452: 206,\n",
       "         454: 236,\n",
       "         453: 156,\n",
       "         414: 25,\n",
       "         455: 189,\n",
       "         444: 24,\n",
       "         448: 38,\n",
       "         457: 277,\n",
       "         456: 217,\n",
       "         458: 183,\n",
       "         462: 33,\n",
       "         459: 118,\n",
       "         460: 68,\n",
       "         461: 23,\n",
       "         467: 44,\n",
       "         468: 143,\n",
       "         466: 101,\n",
       "         472: 263,\n",
       "         465: 80,\n",
       "         463: 133,\n",
       "         471: 31,\n",
       "         474: 327,\n",
       "         469: 43,\n",
       "         464: 53,\n",
       "         476: 83,\n",
       "         478: 113,\n",
       "         473: 35,\n",
       "         470: 57,\n",
       "         480: 60,\n",
       "         441: 20,\n",
       "         479: 202,\n",
       "         484: 139,\n",
       "         486: 189,\n",
       "         487: 231,\n",
       "         482: 26,\n",
       "         481: 56,\n",
       "         492: 55,\n",
       "         493: 135,\n",
       "         490: 57,\n",
       "         489: 109,\n",
       "         483: 59,\n",
       "         496: 129,\n",
       "         494: 47,\n",
       "         495: 213,\n",
       "         477: 35,\n",
       "         497: 279,\n",
       "         488: 154,\n",
       "         498: 149,\n",
       "         499: 102,\n",
       "         491: 33,\n",
       "         500: 225,\n",
       "         502: 37,\n",
       "         503: 160,\n",
       "         504: 251,\n",
       "         505: 112,\n",
       "         506: 242,\n",
       "         443: 24,\n",
       "         507: 58,\n",
       "         514: 194,\n",
       "         508: 87,\n",
       "         511: 24,\n",
       "         515: 40,\n",
       "         512: 21,\n",
       "         513: 22,\n",
       "         475: 20,\n",
       "         523: 100,\n",
       "         518: 73,\n",
       "         509: 33,\n",
       "         516: 21,\n",
       "         510: 30,\n",
       "         524: 306,\n",
       "         501: 73,\n",
       "         525: 54,\n",
       "         521: 150,\n",
       "         520: 23,\n",
       "         519: 49,\n",
       "         528: 53,\n",
       "         532: 274,\n",
       "         530: 45,\n",
       "         531: 30,\n",
       "         529: 43,\n",
       "         517: 37,\n",
       "         527: 137,\n",
       "         485: 26,\n",
       "         533: 260,\n",
       "         535: 218,\n",
       "         536: 163,\n",
       "         526: 68,\n",
       "         537: 490,\n",
       "         534: 80,\n",
       "         541: 133,\n",
       "         538: 81,\n",
       "         542: 135,\n",
       "         545: 162,\n",
       "         539: 56,\n",
       "         547: 23,\n",
       "         543: 197,\n",
       "         548: 155,\n",
       "         546: 59,\n",
       "         522: 30,\n",
       "         551: 334,\n",
       "         544: 31,\n",
       "         553: 100,\n",
       "         552: 84,\n",
       "         540: 63,\n",
       "         554: 114,\n",
       "         550: 40,\n",
       "         556: 44,\n",
       "         559: 76,\n",
       "         560: 101,\n",
       "         561: 357,\n",
       "         563: 30,\n",
       "         566: 149,\n",
       "         557: 53,\n",
       "         558: 20,\n",
       "         564: 34,\n",
       "         565: 35,\n",
       "         573: 51,\n",
       "         549: 25,\n",
       "         567: 155,\n",
       "         569: 70,\n",
       "         562: 72,\n",
       "         576: 36,\n",
       "         577: 188,\n",
       "         579: 74,\n",
       "         574: 46,\n",
       "         555: 52,\n",
       "         572: 20,\n",
       "         575: 26,\n",
       "         584: 24,\n",
       "         588: 225,\n",
       "         587: 98,\n",
       "         568: 81,\n",
       "         586: 166,\n",
       "         585: 80,\n",
       "         582: 62,\n",
       "         591: 84,\n",
       "         581: 28,\n",
       "         592: 360,\n",
       "         580: 47,\n",
       "         590: 48,\n",
       "         593: 156,\n",
       "         583: 27,\n",
       "         596: 20,\n",
       "         570: 22,\n",
       "         599: 47,\n",
       "         589: 43,\n",
       "         594: 25,\n",
       "         597: 41,\n",
       "         578: 24,\n",
       "         601: 148,\n",
       "         602: 29,\n",
       "         600: 89,\n",
       "         605: 90,\n",
       "         603: 47,\n",
       "         595: 96,\n",
       "         606: 236,\n",
       "         608: 163,\n",
       "         607: 37,\n",
       "         610: 75,\n",
       "         611: 42,\n",
       "         617: 108,\n",
       "         618: 216,\n",
       "         614: 39,\n",
       "         609: 28,\n",
       "         615: 103,\n",
       "         616: 43,\n",
       "         620: 110,\n",
       "         571: 20,\n",
       "         619: 89,\n",
       "         613: 28,\n",
       "         622: 228,\n",
       "         621: 171,\n",
       "         604: 27,\n",
       "         624: 141,\n",
       "         612: 27,\n",
       "         627: 181,\n",
       "         623: 45,\n",
       "         628: 27,\n",
       "         625: 106,\n",
       "         629: 121,\n",
       "         633: 58,\n",
       "         632: 118,\n",
       "         631: 20,\n",
       "         634: 135,\n",
       "         639: 148,\n",
       "         630: 108,\n",
       "         642: 318,\n",
       "         637: 104,\n",
       "         640: 109,\n",
       "         626: 32,\n",
       "         643: 206,\n",
       "         598: 25,\n",
       "         638: 67,\n",
       "         635: 34,\n",
       "         644: 42,\n",
       "         636: 20,\n",
       "         645: 122,\n",
       "         648: 297,\n",
       "         647: 58,\n",
       "         650: 311,\n",
       "         651: 21,\n",
       "         654: 147,\n",
       "         653: 283,\n",
       "         655: 685,\n",
       "         649: 24,\n",
       "         658: 71,\n",
       "         656: 24,\n",
       "         660: 224,\n",
       "         659: 191,\n",
       "         646: 38,\n",
       "         663: 158,\n",
       "         664: 166,\n",
       "         657: 29,\n",
       "         665: 142,\n",
       "         666: 245,\n",
       "         661: 121,\n",
       "         662: 23,\n",
       "         667: 47,\n",
       "         641: 40,\n",
       "         668: 46,\n",
       "         673: 35,\n",
       "         671: 124,\n",
       "         669: 100,\n",
       "         676: 77,\n",
       "         674: 41,\n",
       "         652: 22,\n",
       "         677: 49,\n",
       "         682: 399,\n",
       "         679: 62,\n",
       "         684: 86,\n",
       "         685: 20,\n",
       "         683: 75,\n",
       "         691: 32,\n",
       "         672: 29,\n",
       "         692: 40,\n",
       "         690: 115,\n",
       "         689: 36,\n",
       "         686: 71,\n",
       "         693: 154,\n",
       "         688: 24,\n",
       "         697: 105,\n",
       "         698: 127,\n",
       "         670: 46,\n",
       "         694: 157,\n",
       "         680: 38,\n",
       "         705: 114,\n",
       "         701: 33,\n",
       "         699: 149,\n",
       "         704: 90,\n",
       "         707: 236,\n",
       "         700: 21,\n",
       "         687: 21,\n",
       "         695: 38,\n",
       "         675: 34,\n",
       "         708: 105,\n",
       "         709: 138,\n",
       "         711: 221,\n",
       "         710: 86,\n",
       "         712: 162,\n",
       "         715: 167,\n",
       "         713: 30,\n",
       "         716: 269,\n",
       "         681: 22,\n",
       "         678: 28,\n",
       "         719: 67,\n",
       "         702: 31,\n",
       "         721: 168,\n",
       "         714: 44,\n",
       "         717: 93,\n",
       "         718: 39,\n",
       "         696: 29,\n",
       "         722: 42,\n",
       "         724: 85,\n",
       "         727: 322,\n",
       "         725: 25,\n",
       "         706: 29,\n",
       "         720: 30,\n",
       "         729: 21,\n",
       "         726: 24,\n",
       "         728: 26,\n",
       "         703: 47,\n",
       "         738: 148,\n",
       "         736: 24,\n",
       "         734: 64,\n",
       "         730: 38,\n",
       "         743: 35,\n",
       "         742: 26,\n",
       "         737: 33,\n",
       "         733: 107,\n",
       "         745: 60,\n",
       "         740: 20,\n",
       "         735: 53,\n",
       "         747: 293,\n",
       "         723: 22,\n",
       "         739: 35,\n",
       "         749: 305,\n",
       "         748: 108,\n",
       "         746: 67,\n",
       "         731: 83,\n",
       "         750: 33,\n",
       "         741: 104,\n",
       "         751: 168,\n",
       "         756: 109,\n",
       "         757: 166,\n",
       "         752: 73,\n",
       "         758: 357,\n",
       "         732: 20,\n",
       "         762: 21,\n",
       "         744: 27,\n",
       "         754: 34,\n",
       "         753: 57,\n",
       "         763: 129,\n",
       "         764: 109,\n",
       "         767: 37,\n",
       "         769: 29,\n",
       "         755: 38,\n",
       "         771: 70,\n",
       "         768: 64,\n",
       "         773: 161,\n",
       "         765: 23,\n",
       "         772: 33,\n",
       "         766: 175,\n",
       "         774: 224,\n",
       "         760: 41,\n",
       "         761: 66,\n",
       "         777: 36,\n",
       "         759: 32,\n",
       "         776: 105,\n",
       "         780: 55,\n",
       "         779: 37,\n",
       "         778: 65,\n",
       "         782: 232,\n",
       "         786: 117,\n",
       "         784: 39,\n",
       "         770: 64,\n",
       "         788: 249,\n",
       "         789: 33,\n",
       "         790: 231,\n",
       "         787: 57,\n",
       "         783: 30,\n",
       "         785: 27,\n",
       "         794: 39,\n",
       "         781: 42,\n",
       "         796: 358,\n",
       "         795: 159,\n",
       "         793: 55,\n",
       "         798: 239,\n",
       "         791: 25,\n",
       "         802: 75,\n",
       "         800: 28,\n",
       "         804: 332,\n",
       "         803: 33,\n",
       "         775: 28,\n",
       "         792: 47,\n",
       "         799: 24,\n",
       "         805: 273,\n",
       "         806: 140,\n",
       "         807: 204,\n",
       "         797: 26,\n",
       "         801: 26,\n",
       "         809: 20,\n",
       "         815: 183,\n",
       "         817: 36,\n",
       "         821: 62,\n",
       "         818: 21,\n",
       "         814: 35,\n",
       "         812: 20,\n",
       "         823: 185,\n",
       "         825: 145,\n",
       "         827: 28,\n",
       "         829: 64,\n",
       "         811: 21,\n",
       "         830: 106,\n",
       "         826: 115,\n",
       "         831: 73,\n",
       "         819: 28,\n",
       "         828: 104,\n",
       "         808: 23,\n",
       "         835: 102,\n",
       "         833: 267,\n",
       "         836: 50,\n",
       "         816: 25,\n",
       "         838: 93,\n",
       "         839: 57,\n",
       "         840: 197,\n",
       "         832: 25,\n",
       "         810: 26,\n",
       "         844: 81,\n",
       "         843: 204,\n",
       "         834: 54,\n",
       "         846: 405,\n",
       "         837: 46,\n",
       "         813: 29,\n",
       "         842: 27,\n",
       "         847: 146,\n",
       "         848: 150,\n",
       "         822: 25,\n",
       "         852: 49,\n",
       "         851: 209,\n",
       "         849: 23,\n",
       "         854: 217,\n",
       "         850: 51,\n",
       "         858: 21,\n",
       "         853: 41,\n",
       "         855: 23,\n",
       "         824: 20,\n",
       "         845: 31,\n",
       "         841: 31,\n",
       "         859: 39,\n",
       "         862: 165,\n",
       "         856: 26,\n",
       "         820: 21,\n",
       "         863: 107,\n",
       "         860: 71,\n",
       "         857: 22,\n",
       "         864: 294,\n",
       "         865: 66,\n",
       "         868: 208,\n",
       "         867: 95,\n",
       "         861: 43,\n",
       "         870: 269,\n",
       "         871: 115,\n",
       "         875: 89,\n",
       "         876: 21,\n",
       "         872: 71,\n",
       "         866: 20,\n",
       "         877: 81,\n",
       "         873: 20,\n",
       "         880: 368,\n",
       "         878: 134,\n",
       "         869: 47,\n",
       "         881: 259,\n",
       "         879: 29,\n",
       "         883: 268,\n",
       "         882: 137,\n",
       "         884: 43,\n",
       "         886: 240,\n",
       "         885: 102,\n",
       "         889: 326,\n",
       "         874: 34,\n",
       "         892: 226,\n",
       "         890: 119,\n",
       "         893: 59,\n",
       "         887: 171,\n",
       "         891: 47,\n",
       "         894: 245,\n",
       "         896: 362,\n",
       "         897: 185,\n",
       "         901: 124,\n",
       "         899: 135,\n",
       "         903: 136,\n",
       "         904: 47,\n",
       "         907: 147,\n",
       "         905: 40,\n",
       "         902: 49,\n",
       "         898: 30,\n",
       "         895: 20,\n",
       "         906: 41,\n",
       "         900: 45,\n",
       "         908: 74,\n",
       "         916: 317,\n",
       "         911: 98,\n",
       "         912: 53,\n",
       "         914: 23,\n",
       "         918: 103,\n",
       "         919: 217,\n",
       "         921: 110,\n",
       "         910: 60,\n",
       "         913: 132,\n",
       "         915: 26,\n",
       "         922: 127,\n",
       "         923: 74,\n",
       "         928: 32,\n",
       "         927: 120,\n",
       "         924: 82,\n",
       "         929: 49,\n",
       "         931: 61,\n",
       "         917: 35,\n",
       "         932: 241,\n",
       "         909: 26,\n",
       "         934: 174,\n",
       "         933: 184,\n",
       "         935: 39,\n",
       "         938: 108,\n",
       "         940: 107,\n",
       "         888: 20,\n",
       "         925: 32,\n",
       "         942: 79,\n",
       "         937: 40,\n",
       "         926: 20,\n",
       "         943: 168,\n",
       "         939: 49,\n",
       "         936: 142,\n",
       "         930: 63,\n",
       "         920: 26,\n",
       "         941: 22})"
      ]
     },
     "execution_count": 64,
     "metadata": {},
     "output_type": "execute_result"
    }
   ],
   "source": [
    "user_freq = Counter(rating_df['userID'])\n",
    "user_freq"
   ]
  },
  {
   "cell_type": "code",
   "execution_count": 65,
   "metadata": {},
   "outputs": [
    {
     "data": {
      "image/png": "[encoded data removed]",
      "text/plain": [
       "<Figure size 720x720 with 1 Axes>"
      ]
     },
     "metadata": {
      "needs_background": "light"
     },
     "output_type": "display_data"
    }
   ],
   "source": [
    "plt.rcParams['figure.figsize'] = [10, 10]\n",
    "\n",
    "plt.bar(list(user_freq.keys()), user_freq.values(), color='b')\n",
    "plt.show()\n"
   ]
  },
  {
   "cell_type": "code",
   "execution_count": 66,
   "metadata": {},
   "outputs": [
    {
     "name": "stdout",
     "output_type": "stream",
     "text": [
      "106.04453870625663\n",
      "65.0\n"
     ]
    }
   ],
   "source": [
    "print(np.mean(list(user_freq.values())))\n",
    "print(np.median(list(user_freq.values())))"
   ]
  },
  {
   "cell_type": "code",
   "execution_count": 67,
   "metadata": {},
   "outputs": [],
   "source": [
    "tau = np.median(list(user_freq.values()))"
   ]
  },
  {
   "cell_type": "code",
   "execution_count": 68,
   "metadata": {},
   "outputs": [],
   "source": [
    "user_over_tau = {k:v for (k,v) in user_freq.items() if v> tau}\n",
    "user_under_tau = {k:v for (k,v) in user_freq.items() if v <= tau}"
   ]
  },
  {
   "cell_type": "code",
   "execution_count": 69,
   "metadata": {},
   "outputs": [],
   "source": [
    "user_over_tau_df = rating_df[rating_df['userID'].isin(list(user_over_tau.keys()))]\n",
    "user_under_tau_df = rating_df[rating_df['userID'].isin(list(user_under_tau.keys()))]"
   ]
  },
  {
   "cell_type": "code",
   "execution_count": 70,
   "metadata": {},
   "outputs": [
    {
     "data": {
      "text/plain": [
       "array([[3.91041011, 3.1908566 , 3.00235737, ..., 2.        , 3.        ,\n",
       "        3.        ],\n",
       "       [0.        , 0.        , 0.        , ..., 0.        , 0.        ,\n",
       "        0.        ],\n",
       "       [0.        , 0.        , 0.        , ..., 0.        , 0.        ,\n",
       "        0.        ],\n",
       "       ...,\n",
       "       [0.        , 0.        , 0.        , ..., 0.        , 0.        ,\n",
       "        0.        ],\n",
       "       [3.92559031, 3.21751456, 2.96069275, ..., 2.        , 3.        ,\n",
       "        3.        ],\n",
       "       [3.92850668, 3.2432622 , 3.0603311 , ..., 0.        , 3.        ,\n",
       "        3.        ]])"
      ]
     },
     "execution_count": 70,
     "metadata": {},
     "output_type": "execute_result"
    }
   ],
   "source": [
    "user_over_tau_cosine_recsys = SimBasedRecSys('user','cosine')\n",
    "user_over_tau_cosine_recsys.predict_all(user_over_tau_df, num_users, num_items)\n",
    "user_over_tau_cosine_recsys.getModel()"
   ]
  },
  {
   "cell_type": "code",
   "execution_count": 71,
   "metadata": {},
   "outputs": [
    {
     "data": {
      "text/plain": [
       "array([[3.74622788, 3.67506154, 3.73701178, ..., 3.65660155, 3.80213713,\n",
       "        3.91005592],\n",
       "       [3.88679245, 3.20769231, 2.975     , ..., 2.        , 3.        ,\n",
       "        3.        ],\n",
       "       [3.88679245, 3.20769231, 2.975     , ..., 2.        , 3.        ,\n",
       "        3.        ],\n",
       "       ...,\n",
       "       [3.88679245, 3.20769231, 2.975     , ..., 2.        , 3.        ,\n",
       "        3.        ],\n",
       "       [4.35210602, 4.36235364, 4.30060325, ..., 3.95331038, 4.4040219 ,\n",
       "        4.56988753],\n",
       "       [3.51414117, 3.48366119, 3.53167665, ..., 0.        , 3.62344873,\n",
       "        3.60359156]])"
      ]
     },
     "execution_count": 71,
     "metadata": {},
     "output_type": "execute_result"
    }
   ],
   "source": [
    "user_over_tau_cosine_recsys = SimBasedRecSys('item','cosine')\n",
    "user_over_tau_cosine_recsys.predict_all(user_over_tau_df, num_users, num_items)\n",
    "user_over_tau_cosine_recsys.getModel()"
   ]
  },
  {
   "cell_type": "code",
   "execution_count": 72,
   "metadata": {},
   "outputs": [
    {
     "data": {
      "text/plain": [
       "array([[0.        , 0.        , 0.        , ...,        nan,        nan,\n",
       "               nan],\n",
       "       [3.87477127, 3.        , 3.36462318, ..., 3.70967742, 3.70967742,\n",
       "        3.70967742],\n",
       "       [3.89477797, 3.        , 3.72767284, ..., 2.7962963 , 2.7962963 ,\n",
       "        2.7962963 ],\n",
       "       ...,\n",
       "       [3.90454422, 3.        , 3.70474559, ..., 4.04545455, 4.04545455,\n",
       "        4.04545455],\n",
       "       [0.        , 0.        , 0.        , ...,        nan,        nan,\n",
       "               nan],\n",
       "       [0.        , 0.        , 0.        , ...,        nan,        nan,\n",
       "               nan]])"
      ]
     },
     "execution_count": 72,
     "metadata": {},
     "output_type": "execute_result"
    }
   ],
   "source": [
    "user_under_tau_cosine_recsys = SimBasedRecSys('user','cosine')\n",
    "user_under_tau_cosine_recsys.predict_all(user_under_tau_df, num_users, num_items)\n",
    "user_under_tau_cosine_recsys.getModel()"
   ]
  },
  {
   "cell_type": "code",
   "execution_count": 73,
   "metadata": {},
   "outputs": [
    {
     "data": {
      "text/plain": [
       "array([[3.85820896, 3.        , 3.5       , ...,        nan,        nan,\n",
       "               nan],\n",
       "       [3.88165925, 3.64543554, 3.76371047, ..., 0.        , 0.        ,\n",
       "        0.        ],\n",
       "       [2.84274538, 3.10030064, 2.93460732, ..., 0.        , 0.        ,\n",
       "        0.        ],\n",
       "       ...,\n",
       "       [4.15088112, 4.09806381, 3.96560465, ..., 0.        , 0.        ,\n",
       "        0.        ],\n",
       "       [3.85820896, 3.        , 3.5       , ...,        nan,        nan,\n",
       "               nan],\n",
       "       [3.85820896, 3.        , 3.5       , ...,        nan,        nan,\n",
       "               nan]])"
      ]
     },
     "execution_count": 73,
     "metadata": {},
     "output_type": "execute_result"
    }
   ],
   "source": [
    "user_under_tau_cosine_recsys = SimBasedRecSys('item','cosine')\n",
    "user_under_tau_cosine_recsys.predict_all(user_under_tau_df, num_users, num_items)\n",
    "user_under_tau_cosine_recsys.getModel()"
   ]
  },
  {
   "cell_type": "code",
   "execution_count": 74,
   "metadata": {},
   "outputs": [],
   "source": [
    "class tau_CrossValidation(object):\n",
    "    def __init__(self, metric,tau):\n",
    "        \"\"\"\n",
    "            INPUT:\n",
    "                metric: string. from['RMSE']\n",
    "        \"\"\"\n",
    "        data_path=MOVIELENS_DIR\n",
    "        \n",
    "        self.tau = tau\n",
    "        self.folds = self._getData(MOVIELENS_DIR, self.tau)\n",
    "        self.metric_name = metric\n",
    "        self.metric = self._getMetric(self.metric_name)\n",
    "        \n",
    "    def _getMetric(self, metric_name):\n",
    "\n",
    "        switcher = {\n",
    "            'RMSE': self.rmse,\n",
    "        }\n",
    "        \n",
    "        return switcher[metric_name]\n",
    "    \n",
    "    @staticmethod\n",
    "    def rmse(data, k, num_users, num_items, pred, true='rating'):\n",
    "        \"\"\"\n",
    "            data: pandas DataFrame. \n",
    "            pred: string. Column name that corresponding to the prediction\n",
    "            true: string. Column name that corresponding to the true rating\n",
    "        \"\"\"\n",
    "        return sqrt(mean_squared_error(data[pred], data[true]))\n",
    "    \n",
    "\n",
    "    @staticmethod\n",
    "    def getMatrix(user_over_tau_df, num_users, num_items, column_name):\n",
    "        matrix = np.zeros((num_users, num_items))\n",
    "    \n",
    "        for (index, userID, itemID, value) in user_over_tau_df[['userID','itemID', column_name]].itertuples():\n",
    "            matrix[userID-1, itemID-1] = value\n",
    "            \n",
    "        return matrix\n",
    "    \n",
    "    @staticmethod\n",
    "    def _getData(data_path, tau):\n",
    "        \"\"\"\n",
    "            Don't change this function\n",
    "        \"\"\"\n",
    "        folds = []\n",
    "        data_types = ['u{0}.base','u{0}.test']\n",
    "        for i in range(1,6):\n",
    "            train_set = getData(data_path, data_types[0].format(i))\n",
    "            test_set = getData(data_path, data_types[1].format(i))\n",
    "            \n",
    "            \n",
    "            if tau == 'over':\n",
    "                test_set = test_set[test_set['userID'].isin(list(user_over_tau.keys()))]\n",
    "            elif tau == 'under':\n",
    "                test_set = test_set[test_set['userID'].isin(list(user_under_tau.keys()))]\n",
    "            folds.append([train_set, test_set])\n",
    "        return folds\n",
    "    \n",
    "    def run(self, algorithms, num_users, num_items, k=1):\n",
    "        \"\"\"\n",
    "            5-fold cross-validation\n",
    "            algorithms: list. a list of algorithms. \n",
    "                        eg: [user_cosine_recsys, item_euclidean_recsys]\n",
    "        \"\"\"\n",
    "        \n",
    "        scores = {}\n",
    "        for algorithm in algorithms:\n",
    "            print('Processing algorithm {0}'.format(algorithm.getPredColName()))\n",
    "            fold_scores = []\n",
    "            for fold in self.folds:\n",
    "                algorithm.reset()\n",
    "                algorithm.predict_all(fold[0], num_users, num_items)\n",
    "                prediction = algorithm.evaluate_test(fold[1])\n",
    "                pred_col = algorithm.getPredColName()\n",
    "                fold_scores.append(self.metric(prediction, k, num_users, num_items, pred_col))\n",
    "                \n",
    "            mean = np.mean(fold_scores)\n",
    "            ci_low, ci_high = stats.t.interval(0.95, len(fold_scores)-1, loc=mean, scale=stats.sem(fold_scores))\n",
    "            scores[algorithm.getPredColName()] = [fold_scores, mean, ci_low, ci_high]\n",
    "            \n",
    "        results = scores    \n",
    "    \n",
    "        return results\n",
    "            "
   ]
  },
  {
   "cell_type": "code",
   "execution_count": 75,
   "metadata": {},
   "outputs": [],
   "source": [
    "tau_algorithm_instances = [user_cosine_recsys,\n",
    "                      item_cosine_recsys]"
   ]
  },
  {
   "cell_type": "code",
   "execution_count": 76,
   "metadata": {
    "scrolled": true
   },
   "outputs": [
    {
     "name": "stdout",
     "output_type": "stream",
     "text": [
      "Processing algorithm user-cosine\n"
     ]
    },
    {
     "name": "stderr",
     "output_type": "stream",
     "text": [
      "16695it [00:04, 3497.19it/s]\n",
      "16683it [00:04, 3560.99it/s]\n",
      "16458it [00:04, 3573.34it/s]\n",
      "16432it [00:04, 3509.45it/s]\n",
      "16376it [00:04, 3569.28it/s]\n",
      "0it [00:00, ?it/s]"
     ]
    },
    {
     "name": "stdout",
     "output_type": "stream",
     "text": [
      "Processing algorithm item-cosine\n"
     ]
    },
    {
     "name": "stderr",
     "output_type": "stream",
     "text": [
      "16695it [00:04, 3538.82it/s]\n",
      "16683it [00:04, 3553.83it/s]\n",
      "16458it [00:04, 3551.21it/s]\n",
      "16432it [00:04, 3581.68it/s]\n",
      "16376it [00:04, 3539.32it/s]\n"
     ]
    }
   ],
   "source": [
    "tau_over_cv_rmse = tau_CrossValidation('RMSE','over')\n",
    "tau_over_rmse_result = tau_over_cv_rmse.run(tau_algorithm_instances, num_users, num_items,k=5)"
   ]
  },
  {
   "cell_type": "code",
   "execution_count": 77,
   "metadata": {},
   "outputs": [
    {
     "data": {
      "text/plain": [
       "{'user-cosine': [[1.0220295846355458,\n",
       "   1.0106425746588974,\n",
       "   1.0070053630303846,\n",
       "   1.0004152964535435,\n",
       "   1.008430022746449],\n",
       "  1.0097045683049641,\n",
       "  0.9999279597419447,\n",
       "  1.0194811768679837],\n",
       " 'item-cosine': [[1.0391892811242678,\n",
       "   1.0164750205325996,\n",
       "   1.005030344113541,\n",
       "   1.00651806213055,\n",
       "   1.0135812707780274],\n",
       "  1.0161587957357974,\n",
       "  0.9991120889890304,\n",
       "  1.0332055024825644]}"
      ]
     },
     "execution_count": 77,
     "metadata": {},
     "output_type": "execute_result"
    }
   ],
   "source": [
    "tau_over_rmse_result"
   ]
  },
  {
   "cell_type": "code",
   "execution_count": 78,
   "metadata": {},
   "outputs": [
    {
     "data": {
      "text/html": [
       "<div>\n",
       "<style scoped>\n",
       "    .dataframe tbody tr th:only-of-type {\n",
       "        vertical-align: middle;\n",
       "    }\n",
       "\n",
       "    .dataframe tbody tr th {\n",
       "        vertical-align: top;\n",
       "    }\n",
       "\n",
       "    .dataframe thead th {\n",
       "        text-align: right;\n",
       "    }\n",
       "</style>\n",
       "<table border=\"1\" class=\"dataframe\">\n",
       "  <thead>\n",
       "    <tr style=\"text-align: right;\">\n",
       "      <th></th>\n",
       "      <th>user-cosine</th>\n",
       "      <th>item-cosine</th>\n",
       "    </tr>\n",
       "  </thead>\n",
       "  <tbody>\n",
       "    <tr>\n",
       "      <th>5-fold score</th>\n",
       "      <td>[1.0220295846355458, 1.0106425746588974, 1.007...</td>\n",
       "      <td>[1.0391892811242678, 1.0164750205325996, 1.005...</td>\n",
       "    </tr>\n",
       "    <tr>\n",
       "      <th>mean</th>\n",
       "      <td>1.0097</td>\n",
       "      <td>1.01616</td>\n",
       "    </tr>\n",
       "    <tr>\n",
       "      <th>ci low</th>\n",
       "      <td>0.999928</td>\n",
       "      <td>0.999112</td>\n",
       "    </tr>\n",
       "    <tr>\n",
       "      <th>ci high</th>\n",
       "      <td>1.01948</td>\n",
       "      <td>1.03321</td>\n",
       "    </tr>\n",
       "  </tbody>\n",
       "</table>\n",
       "</div>"
      ],
      "text/plain": [
       "                                                    user-cosine  \\\n",
       "5-fold score  [1.0220295846355458, 1.0106425746588974, 1.007...   \n",
       "mean                                                     1.0097   \n",
       "ci low                                                 0.999928   \n",
       "ci high                                                 1.01948   \n",
       "\n",
       "                                                    item-cosine  \n",
       "5-fold score  [1.0391892811242678, 1.0164750205325996, 1.005...  \n",
       "mean                                                    1.01616  \n",
       "ci low                                                 0.999112  \n",
       "ci high                                                 1.03321  "
      ]
     },
     "execution_count": 78,
     "metadata": {},
     "output_type": "execute_result"
    }
   ],
   "source": [
    "tau_over_rmse_df = pd.DataFrame(columns = list(tau_over_rmse_result.keys()),index=range(4))\n",
    "for elem in list(tau_over_rmse_df.keys()):\n",
    "    tau_over_rmse_df[elem].iloc[0] = tau_over_rmse_result[elem][0]\n",
    "    tau_over_rmse_df[elem].iloc[1] = tau_over_rmse_result[elem][1]\n",
    "    tau_over_rmse_df[elem].iloc[2] = tau_over_rmse_result[elem][2]\n",
    "    tau_over_rmse_df[elem].iloc[3] = tau_over_rmse_result[elem][3]\n",
    "tau_over_rmse_df = tau_over_rmse_df.rename(index={0: '5-fold score', 1: 'mean', 2: 'ci low',3:'ci high'})\n",
    "tau_over_rmse_df"
   ]
  },
  {
   "cell_type": "code",
   "execution_count": 79,
   "metadata": {
    "scrolled": true
   },
   "outputs": [
    {
     "name": "stderr",
     "output_type": "stream",
     "text": [
      "\r",
      "0it [00:00, ?it/s]"
     ]
    },
    {
     "name": "stdout",
     "output_type": "stream",
     "text": [
      "Processing algorithm user-cosine\n"
     ]
    },
    {
     "name": "stderr",
     "output_type": "stream",
     "text": [
      "3305it [00:00, 3623.22it/s]\n",
      "3317it [00:00, 3723.84it/s]\n",
      "3542it [00:00, 3752.56it/s]\n",
      "3568it [00:01, 3553.16it/s]\n",
      "3624it [00:00, 3738.83it/s]\n",
      "0it [00:00, ?it/s]"
     ]
    },
    {
     "name": "stdout",
     "output_type": "stream",
     "text": [
      "Processing algorithm item-cosine\n"
     ]
    },
    {
     "name": "stderr",
     "output_type": "stream",
     "text": [
      "3305it [00:00, 3697.25it/s]\n",
      "3317it [00:00, 3747.14it/s]\n",
      "3542it [00:00, 3727.08it/s]\n",
      "3568it [00:00, 3601.00it/s]\n",
      "3624it [00:00, 3629.09it/s]\n"
     ]
    }
   ],
   "source": [
    "tau_under_cv_rmse = tau_CrossValidation('RMSE','under')\n",
    "tau_under_rmse_result = tau_under_cv_rmse.run(tau_algorithm_instances, num_users, num_items,k=5)"
   ]
  },
  {
   "cell_type": "code",
   "execution_count": 80,
   "metadata": {},
   "outputs": [
    {
     "data": {
      "text/plain": [
       "{'user-cosine': [[1.0484888012831624,\n",
       "   1.0740945155945423,\n",
       "   1.0420167492728771,\n",
       "   1.0497880698148294,\n",
       "   1.050532459788597],\n",
       "  1.0529841191508016,\n",
       "  1.0377469579605318,\n",
       "  1.0682212803410713],\n",
       " 'item-cosine': [[1.0305288300885578,\n",
       "   1.0418556833159958,\n",
       "   1.0337829506154919,\n",
       "   1.046048550857087,\n",
       "   1.0380463905058503],\n",
       "  1.0380524810765965,\n",
       "  1.0303672998112876,\n",
       "  1.0457376623419055]}"
      ]
     },
     "execution_count": 80,
     "metadata": {},
     "output_type": "execute_result"
    }
   ],
   "source": [
    "tau_under_rmse_result"
   ]
  },
  {
   "cell_type": "code",
   "execution_count": 81,
   "metadata": {},
   "outputs": [
    {
     "data": {
      "text/html": [
       "<div>\n",
       "<style scoped>\n",
       "    .dataframe tbody tr th:only-of-type {\n",
       "        vertical-align: middle;\n",
       "    }\n",
       "\n",
       "    .dataframe tbody tr th {\n",
       "        vertical-align: top;\n",
       "    }\n",
       "\n",
       "    .dataframe thead th {\n",
       "        text-align: right;\n",
       "    }\n",
       "</style>\n",
       "<table border=\"1\" class=\"dataframe\">\n",
       "  <thead>\n",
       "    <tr style=\"text-align: right;\">\n",
       "      <th></th>\n",
       "      <th>user-cosine</th>\n",
       "      <th>item-cosine</th>\n",
       "    </tr>\n",
       "  </thead>\n",
       "  <tbody>\n",
       "    <tr>\n",
       "      <th>5-fold score</th>\n",
       "      <td>[1.0484888012831624, 1.0740945155945423, 1.042...</td>\n",
       "      <td>[1.0305288300885578, 1.0418556833159958, 1.033...</td>\n",
       "    </tr>\n",
       "    <tr>\n",
       "      <th>mean</th>\n",
       "      <td>1.05298</td>\n",
       "      <td>1.03805</td>\n",
       "    </tr>\n",
       "    <tr>\n",
       "      <th>ci low</th>\n",
       "      <td>1.03775</td>\n",
       "      <td>1.03037</td>\n",
       "    </tr>\n",
       "    <tr>\n",
       "      <th>ci high</th>\n",
       "      <td>1.06822</td>\n",
       "      <td>1.04574</td>\n",
       "    </tr>\n",
       "  </tbody>\n",
       "</table>\n",
       "</div>"
      ],
      "text/plain": [
       "                                                    user-cosine  \\\n",
       "5-fold score  [1.0484888012831624, 1.0740945155945423, 1.042...   \n",
       "mean                                                    1.05298   \n",
       "ci low                                                  1.03775   \n",
       "ci high                                                 1.06822   \n",
       "\n",
       "                                                    item-cosine  \n",
       "5-fold score  [1.0305288300885578, 1.0418556833159958, 1.033...  \n",
       "mean                                                    1.03805  \n",
       "ci low                                                  1.03037  \n",
       "ci high                                                 1.04574  "
      ]
     },
     "execution_count": 81,
     "metadata": {},
     "output_type": "execute_result"
    }
   ],
   "source": [
    "tau_under_rmse_df = pd.DataFrame(columns = list(tau_under_rmse_result.keys()),index=range(4))\n",
    "for elem in list(tau_under_rmse_df.keys()):\n",
    "    tau_under_rmse_df[elem].iloc[0] = tau_under_rmse_result[elem][0]\n",
    "    tau_under_rmse_df[elem].iloc[1] = tau_under_rmse_result[elem][1]\n",
    "    tau_under_rmse_df[elem].iloc[2] = tau_under_rmse_result[elem][2]\n",
    "    tau_under_rmse_df[elem].iloc[3] = tau_under_rmse_result[elem][3]\n",
    "tau_under_rmse_df = tau_under_rmse_df.rename(index={0: '5-fold score', 1: 'mean', 2: 'ci low',3:'ci high'})\n",
    "tau_under_rmse_df"
   ]
  },
  {
   "cell_type": "markdown",
   "metadata": {},
   "source": [
    "Reommender for (i) has a slightly lower RMSE mean value and a narrower CI interval than reccomender for (ii). This is because (i) has more user ratings which means larger sample size."
   ]
  },
  {
   "cell_type": "code",
   "execution_count": null,
   "metadata": {},
   "outputs": [],
   "source": []
  }
 ],
 "metadata": {
  "kernelspec": {
   "display_name": "Python 3",
   "language": "python",
   "name": "python3"
  },
  "language_info": {
   "codemirror_mode": {
    "name": "ipython",
    "version": 3
   },
   "file_extension": ".py",
   "mimetype": "text/x-python",
   "name": "python",
   "nbconvert_exporter": "python",
   "pygments_lexer": "ipython3",
   "version": "3.7.3"
  }
 },
 "nbformat": 4,
 "nbformat_minor": 2
}
